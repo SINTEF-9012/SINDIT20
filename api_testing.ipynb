{
 "cells": [
  {
   "cell_type": "code",
   "execution_count": 3,
   "metadata": {},
   "outputs": [],
   "source": [
    "from dotenv import load_dotenv\n",
    "import requests\n",
    "import os\n",
    "\n",
    "load_dotenv(\"./environment_and_configuration/dev_environment_backend.env\")\n",
    "\n",
    "base_url = f'http://{os.getenv(\"FAST_API_HOST\")}:{os.getenv(\"FAST_API_PORT\")}'\n"
   ]
  },
  {
   "cell_type": "code",
   "execution_count": 5,
   "metadata": {},
   "outputs": [
    {
     "data": {
      "text/plain": [
       "'http://0.0.0.0:9017'"
      ]
     },
     "execution_count": 5,
     "metadata": {},
     "output_type": "execute_result"
    }
   ],
   "source": [
    "base_url"
   ]
  },
  {
   "cell_type": "code",
   "execution_count": 15,
   "metadata": {},
   "outputs": [],
   "source": [
    "\n",
    "def query_get_api(endpoint: str) -> requests.Response:\n",
    "    response = requests.get(f'{base_url}/{endpoint}')\n",
    "    status_code = response.status_code\n",
    "    if status_code == 200:\n",
    "        return response.json()\n",
    "    else:\n",
    "        raise Exception(f'Error: {status_code}')\n",
    "\n",
    "def query_post_api(endpoint: str, json: dict) -> requests.Response:\n",
    "    response = requests.post(f'{base_url}/{endpoint}', json=json)\n",
    "    status_code = response.status_code\n",
    "    if status_code == 200:\n",
    "        return response.json()\n",
    "    else:\n",
    "        raise Exception(f'Error: {status_code}: {response.text}') "
   ]
  },
  {
   "cell_type": "code",
   "execution_count": 24,
   "metadata": {},
   "outputs": [
    {
     "data": {
      "text/plain": [
       "[{'class_uri': 'urn:samm:sindit.sintef.no:1.0.0#Connection',\n",
       "  'uri': 'http://kg1/w1/Node002',\n",
       "  'label': 'Node 2',\n",
       "  'type': 'MQTT Connection',\n",
       "  'host': 'mqtt.eclipse.org',\n",
       "  'port': 1883,\n",
       "  'connectionDescription': 'This is a MQTT connection'},\n",
       " {'class_uri': 'urn:samm:sindit.sintef.no:1.0.0#AbstractAsset',\n",
       "  'uri': 'http://kg1/w1/Node001',\n",
       "  'label': 'Node 1',\n",
       "  'assetDescription': 'This is a test node'}]"
      ]
     },
     "execution_count": 24,
     "metadata": {},
     "output_type": "execute_result"
    }
   ],
   "source": [
    "query_get_api('kg/nodes')"
   ]
  },
  {
   "cell_type": "code",
   "execution_count": 22,
   "metadata": {},
   "outputs": [],
   "source": [
    "base_uri = \"http://kg1\"\n",
    "workspace = \"w1\"\n",
    "node_id = \"Node001\"\n",
    "node_name = \"Node 1\"\n",
    "\n",
    "create_abstract_node = {\n",
    "    \"uri\": f'{base_uri}/{workspace}/{node_id}',\n",
    "    \"label\": node_name,\n",
    "    \"assetDescription\": \"This is a test node\",\n",
    "}\n",
    "\n",
    "create_connection_node = {\n",
    "    \"uri\": f'{base_uri}/{workspace}/Node002',\n",
    "    \"label\": \"Node 2\",\n",
    "    \"type\": \"MQTT Connection\",\n",
    "    \"host\": \"mqtt.eclipse.org\",\n",
    "    \"port\": 1883,\n",
    "    \"connectionDescription\": \"This is a MQTT connection\",\n",
    "}"
   ]
  },
  {
   "cell_type": "code",
   "execution_count": 20,
   "metadata": {},
   "outputs": [
    {
     "data": {
      "text/plain": [
       "{'result': True}"
      ]
     },
     "execution_count": 20,
     "metadata": {},
     "output_type": "execute_result"
    }
   ],
   "source": [
    "query_post_api('kg/asset', create_abstract_node)"
   ]
  },
  {
   "cell_type": "code",
   "execution_count": 23,
   "metadata": {},
   "outputs": [
    {
     "data": {
      "text/plain": [
       "{'result': True}"
      ]
     },
     "execution_count": 23,
     "metadata": {},
     "output_type": "execute_result"
    }
   ],
   "source": [
    "query_post_api('kg/connection', create_connection_node)"
   ]
  },
  {
   "cell_type": "code",
   "execution_count": null,
   "metadata": {},
   "outputs": [],
   "source": []
  }
 ],
 "metadata": {
  "kernelspec": {
   "display_name": ".venv",
   "language": "python",
   "name": "python3"
  },
  "language_info": {
   "codemirror_mode": {
    "name": "ipython",
    "version": 3
   },
   "file_extension": ".py",
   "mimetype": "text/x-python",
   "name": "python",
   "nbconvert_exporter": "python",
   "pygments_lexer": "ipython3",
   "version": "3.11.9"
  }
 },
 "nbformat": 4,
 "nbformat_minor": 2
}
