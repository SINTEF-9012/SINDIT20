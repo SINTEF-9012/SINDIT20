{
 "cells": [
  {
   "cell_type": "code",
   "execution_count": 4,
   "metadata": {},
   "outputs": [],
   "source": [
    "# Load environment variables from a .env file\n",
    "from dotenv import load_dotenv\n",
    "import os\n",
    "\n",
    "load_dotenv('/Users/gorans/projects/monorepo/projects/sindit/environment_and_configuration/dev_environment_backend.env')\n",
    "load_dotenv('.env') # not tracked by git\n",
    "\n",
    "# Now you can access the variables\n",
    "FAST_API_HOST = os.getenv('FAST_API_HOST')\n",
    "FAST_API_PORT = os.getenv('FAST_API_PORT')\n",
    "\n",
    "GRAPHDB_HOST = os.getenv('GRAPHDB_HOST')\n",
    "GRAPHDB_PORT = os.getenv('GRAPHDB_PORT')\n",
    "GRAPHDB_USERNAME = os.getenv('GRAPHDB_USERNAME')\n",
    "GRAPHDB_PASSWORD = os.getenv('GRAPHDB_PASSWORD')\n",
    "GRPAPHDB_REPOSITORY = os.getenv('GRPAPHDB_REPOSITORY')\n",
    "\n",
    "LOG_LEVEL = os.getenv('LOG_LEVEL')\n",
    "\n",
    "USE_HASHICORP_VAULT = os.getenv('USE_HASHICORP_VAULT')\n",
    "FSVAULT_PATH = os.getenv('FSVAULT_PATH')"
   ]
  },
  {
   "cell_type": "code",
   "execution_count": null,
   "metadata": {},
   "outputs": [],
   "source": []
  }
 ],
 "metadata": {
  "kernelspec": {
   "display_name": ".venv",
   "language": "python",
   "name": "python3"
  },
  "language_info": {
   "codemirror_mode": {
    "name": "ipython",
    "version": 3
   },
   "file_extension": ".py",
   "mimetype": "text/x-python",
   "name": "python",
   "nbconvert_exporter": "python",
   "pygments_lexer": "ipython3",
   "version": "3.11.9"
  }
 },
 "nbformat": 4,
 "nbformat_minor": 2
}
