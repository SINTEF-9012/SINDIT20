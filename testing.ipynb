{
 "cells": [
  {
   "cell_type": "code",
   "execution_count": 1,
   "metadata": {},
   "outputs": [],
   "source": [
    "import os\n",
    "\n",
    "# Load environment variables from a .env file\n",
    "from dotenv import load_dotenv\n",
    "\n",
    "load_dotenv('/Users/gorans/projects/monorepo/projects/sindit/environment_and_configuration/dev_environment_backend.env')\n",
    "load_dotenv('.env') # not tracked by git\n",
    "\n",
    "# Now you can access the variables\n",
    "FAST_API_HOST = os.getenv('FAST_API_HOST')\n",
    "FAST_API_PORT = os.getenv('FAST_API_PORT')\n",
    "\n",
    "GRAPHDB_HOST = os.getenv('GRAPHDB_HOST')\n",
    "GRAPHDB_PORT = os.getenv('GRAPHDB_PORT')\n",
    "GRAPHDB_USERNAME = os.getenv('GRAPHDB_USERNAME')\n",
    "GRAPHDB_PASSWORD = os.getenv('GRAPHDB_PASSWORD')\n",
    "GRPAPHDB_REPOSITORY = os.getenv('GRPAPHDB_REPOSITORY')\n",
    "\n",
    "LOG_LEVEL = os.getenv('LOG_LEVEL')\n",
    "\n",
    "USE_HASHICORP_VAULT = os.getenv('USE_HASHICORP_VAULT')\n",
    "FSVAULT_PATH = os.getenv('FSVAULT_PATH')"
   ]
  },
  {
   "cell_type": "code",
   "execution_count": 2,
   "metadata": {},
   "outputs": [
    {
     "ename": "ModuleNotFoundError",
     "evalue": "No module named 'initialize_objects'",
     "output_type": "error",
     "traceback": [
      "\u001b[0;31m---------------------------------------------------------------------------\u001b[0m",
      "\u001b[0;31mModuleNotFoundError\u001b[0m                       Traceback (most recent call last)",
      "Cell \u001b[0;32mIn[2], line 1\u001b[0m\n\u001b[0;32m----> 1\u001b[0m \u001b[38;5;28;01mfrom\u001b[39;00m \u001b[38;5;21;01minitialize_objects\u001b[39;00m \u001b[38;5;28;01mimport\u001b[39;00m sindit_kg_connector\n\u001b[1;32m      2\u001b[0m \u001b[38;5;28;01mfrom\u001b[39;00m \u001b[38;5;21;01mrdflib\u001b[39;00m \u001b[38;5;28;01mimport\u001b[39;00m XSD, Graph, URIRef\n\u001b[1;32m      4\u001b[0m \u001b[38;5;28;01mfrom\u001b[39;00m \u001b[38;5;21;01mknowledge_graph\u001b[39;00m\u001b[38;5;21;01m.\u001b[39;00m\u001b[38;5;21;01mgraph_model\u001b[39;00m \u001b[38;5;28;01mimport\u001b[39;00m (\n\u001b[1;32m      5\u001b[0m     AbstractAsset,\n\u001b[1;32m      6\u001b[0m     Connection,\n\u001b[0;32m   (...)\u001b[0m\n\u001b[1;32m     10\u001b[0m     URIClassMapping,\n\u001b[1;32m     11\u001b[0m )\n",
      "\u001b[0;31mModuleNotFoundError\u001b[0m: No module named 'initialize_objects'"
     ]
    }
   ],
   "source": [
    "from initialize_objects import sindit_kg_connector\n",
    "from rdflib import XSD, Graph, URIRef\n",
    "\n",
    "from knowledge_graph.graph_model import (\n",
    "    AbstractAsset,\n",
    "    Connection,\n",
    "    GraphNamespace,\n",
    "    StreamingProperty,\n",
    "    TimeseriesProperty,\n",
    "    URIClassMapping,\n",
    ")"
   ]
  },
  {
   "cell_type": "code",
   "execution_count": null,
   "metadata": {},
   "outputs": [],
   "source": [
    "from knowledge_graph.graph_model import Connection, URIRef\n",
    "mqtt_connection = Connection(\n",
    "    uri=URIRef(\"http://sindit.sintef.no/2.0#mqtt-connection-new\"),\n",
    "    type=\"MQTT\",\n",
    "    host=\"192.168.1.81\",\n",
    "    port=1883,\n",
    "    username=\"admin\",\n",
    "    passwordPath=\"admin\",\n",
    "    label=\"MQTT Connection\",\n",
    ")"
   ]
  },
  {
   "cell_type": "code",
   "execution_count": null,
   "metadata": {},
   "outputs": [
    {
     "data": {
      "text/plain": [
       "Connection(class_uri=rdflib.term.URIRef('urn:samm:sindit.sintef.no:1.0.0#Connection'), uri=rdflib.term.URIRef('http://sindit.sintef.no/2.0#mqtt-connection-new'), label='MQTT Connection', type='MQTT', host='192.168.1.81', port=1883, username='admin', passwordPath='admin', tokenPath=None, isConnected=None, connectionDescription=None)"
      ]
     },
     "execution_count": 3,
     "metadata": {},
     "output_type": "execute_result"
    }
   ],
   "source": [
    "mqtt_connection"
   ]
  },
  {
   "cell_type": "code",
   "execution_count": null,
   "metadata": {},
   "outputs": [
    {
     "data": {
      "text/plain": [
       "True"
      ]
     },
     "execution_count": 13,
     "metadata": {},
     "output_type": "execute_result"
    }
   ],
   "source": [
    "sindit_kg_connector.save_node(mqtt_connection)"
   ]
  },
  {
   "cell_type": "code",
   "execution_count": null,
   "metadata": {},
   "outputs": [],
   "source": [
    "connection = sindit_kg_connector.load_node_by_uri(\"http://sindit.sintef.no/2.0#mqtt-connection-new\")"
   ]
  },
  {
   "cell_type": "code",
   "execution_count": null,
   "metadata": {},
   "outputs": [],
   "source": [
    "from connectors.connector_mqtt import MQTTConnector"
   ]
  },
  {
   "cell_type": "code",
   "execution_count": null,
   "metadata": {},
   "outputs": [],
   "source": [
    "mqtt_connector = MQTTConnector(host=os.getenv(\"MQTT_BROKER\"), port=os.getenv(\"MQTT_PORT\"), username=os.getenv(\"MQTT_USERNAME\"), password=os.getenv(\"MQTT_PASSWORD\"))"
   ]
  },
  {
   "cell_type": "code",
   "execution_count": null,
   "metadata": {},
   "outputs": [],
   "source": [
    "mqtt_connector.start()"
   ]
  },
  {
   "cell_type": "code",
   "execution_count": null,
   "metadata": {},
   "outputs": [
    {
     "name": "stdout",
     "output_type": "stream",
     "text": [
      "Subscribed to f/i/+/+\n"
     ]
    }
   ],
   "source": [
    "mqtt_connector.subscribe(topic=\"f/i/+/+\")"
   ]
  },
  {
   "cell_type": "code",
   "execution_count": null,
   "metadata": {},
   "outputs": [],
   "source": [
    "messages = mqtt_connector.get_messages()"
   ]
  },
  {
   "cell_type": "code",
   "execution_count": null,
   "metadata": {},
   "outputs": [
    {
     "data": {
      "text/plain": [
       "{'f/i/state/mpo': {'timestamp': [1722428082.075271,\n",
       "   1722428082.154332,\n",
       "   1722428084.057782,\n",
       "   1722428084.131403,\n",
       "   1722428086.164129,\n",
       "   1722428086.216465,\n",
       "   1722428088.074522,\n",
       "   1722428088.125613,\n",
       "   1722428090.168312,\n",
       "   1722428090.1919842,\n",
       "   1722428092.117889,\n",
       "   1722428092.1737769],\n",
       "  'payload': ['{\"ts\":\"2024-07-31T12:14:40.539Z\",\"station\":\"mpo\",\"code\":1,\"description\":\"\",\"active\":false,\"target\":\"\"}',\n",
       "   '{\"ts\":\"2024-07-31T12:14:40.539Z\",\"station\":\"mpo\",\"code\":1,\"description\":\"\",\"active\":false,\"target\":\"\"}',\n",
       "   '{\"ts\":\"2024-07-31T12:14:42.568Z\",\"station\":\"mpo\",\"code\":1,\"description\":\"\",\"active\":false,\"target\":\"\"}',\n",
       "   '{\"ts\":\"2024-07-31T12:14:42.568Z\",\"station\":\"mpo\",\"code\":1,\"description\":\"\",\"active\":false,\"target\":\"\"}',\n",
       "   '{\"ts\":\"2024-07-31T12:14:44.597Z\",\"station\":\"mpo\",\"code\":1,\"description\":\"\",\"active\":false,\"target\":\"\"}',\n",
       "   '{\"ts\":\"2024-07-31T12:14:44.597Z\",\"station\":\"mpo\",\"code\":1,\"description\":\"\",\"active\":false,\"target\":\"\"}',\n",
       "   '{\"ts\":\"2024-07-31T12:14:46.619Z\",\"station\":\"mpo\",\"code\":1,\"description\":\"\",\"active\":false,\"target\":\"\"}',\n",
       "   '{\"ts\":\"2024-07-31T12:14:46.619Z\",\"station\":\"mpo\",\"code\":1,\"description\":\"\",\"active\":false,\"target\":\"\"}',\n",
       "   '{\"ts\":\"2024-07-31T12:14:48.648Z\",\"station\":\"mpo\",\"code\":1,\"description\":\"\",\"active\":false,\"target\":\"\"}',\n",
       "   '{\"ts\":\"2024-07-31T12:14:48.648Z\",\"station\":\"mpo\",\"code\":1,\"description\":\"\",\"active\":false,\"target\":\"\"}',\n",
       "   '{\"ts\":\"2024-07-31T12:14:50.670Z\",\"station\":\"mpo\",\"code\":1,\"description\":\"\",\"active\":false,\"target\":\"\"}',\n",
       "   '{\"ts\":\"2024-07-31T12:14:50.670Z\",\"station\":\"mpo\",\"code\":1,\"description\":\"\",\"active\":false,\"target\":\"\"}']},\n",
       " 'f/i/state/hbw': {'timestamp': [1722428082.102017,\n",
       "   1722428082.2591639,\n",
       "   1722428084.086289,\n",
       "   1722428084.1757498,\n",
       "   1722428086.186969,\n",
       "   1722428086.2660239,\n",
       "   1722428088.1029592,\n",
       "   1722428088.1814241,\n",
       "   1722428090.191765,\n",
       "   1722428090.192106,\n",
       "   1722428092.149194,\n",
       "   1722428092.227149],\n",
       "  'payload': ['{\"ts\":\"2024-07-31T12:14:40.861Z\",\"station\":\"hbw\",\"code\":1,\"description\":\"\",\"active\":false,\"target\":\"\"}',\n",
       "   '{\"ts\":\"2024-07-31T12:14:40.861Z\",\"station\":\"hbw\",\"code\":1,\"description\":\"\",\"active\":false,\"target\":\"\"}',\n",
       "   '{\"ts\":\"2024-07-31T12:14:42.889Z\",\"station\":\"hbw\",\"code\":1,\"description\":\"\",\"active\":false,\"target\":\"\"}',\n",
       "   '{\"ts\":\"2024-07-31T12:14:42.889Z\",\"station\":\"hbw\",\"code\":1,\"description\":\"\",\"active\":false,\"target\":\"\"}',\n",
       "   '{\"ts\":\"2024-07-31T12:14:44.919Z\",\"station\":\"hbw\",\"code\":1,\"description\":\"\",\"active\":false,\"target\":\"\"}',\n",
       "   '{\"ts\":\"2024-07-31T12:14:44.919Z\",\"station\":\"hbw\",\"code\":1,\"description\":\"\",\"active\":false,\"target\":\"\"}',\n",
       "   '{\"ts\":\"2024-07-31T12:14:46.941Z\",\"station\":\"hbw\",\"code\":1,\"description\":\"\",\"active\":false,\"target\":\"\"}',\n",
       "   '{\"ts\":\"2024-07-31T12:14:46.941Z\",\"station\":\"hbw\",\"code\":1,\"description\":\"\",\"active\":false,\"target\":\"\"}',\n",
       "   '{\"ts\":\"2024-07-31T12:14:48.970Z\",\"station\":\"hbw\",\"code\":1,\"description\":\"\",\"active\":false,\"target\":\"\"}',\n",
       "   '{\"ts\":\"2024-07-31T12:14:48.970Z\",\"station\":\"hbw\",\"code\":1,\"description\":\"\",\"active\":false,\"target\":\"\"}',\n",
       "   '{\"ts\":\"2024-07-31T12:14:50.992Z\",\"station\":\"hbw\",\"code\":1,\"description\":\"\",\"active\":false,\"target\":\"\"}',\n",
       "   '{\"ts\":\"2024-07-31T12:14:50.992Z\",\"station\":\"hbw\",\"code\":1,\"description\":\"\",\"active\":false,\"target\":\"\"}']},\n",
       " 'f/i/state/sld': {'timestamp': [1722428082.130028,\n",
       "   1722428082.281955,\n",
       "   1722428084.109686,\n",
       "   1722428084.17588,\n",
       "   1722428086.187096,\n",
       "   1722428086.288983,\n",
       "   1722428088.125438,\n",
       "   1722428088.18154,\n",
       "   1722428090.191884,\n",
       "   1722428090.237119,\n",
       "   1722428092.173861,\n",
       "   1722428092.267213],\n",
       "  'payload': ['{\"ts\":\"2024-07-31T12:14:40.620Z\",\"station\":\"sld\",\"code\":1,\"description\":\"\",\"active\":false,\"target\":\"\"}',\n",
       "   '{\"ts\":\"2024-07-31T12:14:40.620Z\",\"station\":\"sld\",\"code\":1,\"description\":\"\",\"active\":false,\"target\":\"\"}',\n",
       "   '{\"ts\":\"2024-07-31T12:14:42.648Z\",\"station\":\"sld\",\"code\":1,\"description\":\"\",\"active\":false,\"target\":\"\"}',\n",
       "   '{\"ts\":\"2024-07-31T12:14:42.648Z\",\"station\":\"sld\",\"code\":1,\"description\":\"\",\"active\":false,\"target\":\"\"}',\n",
       "   '{\"ts\":\"2024-07-31T12:14:44.678Z\",\"station\":\"sld\",\"code\":1,\"description\":\"\",\"active\":false,\"target\":\"\"}',\n",
       "   '{\"ts\":\"2024-07-31T12:14:44.678Z\",\"station\":\"sld\",\"code\":1,\"description\":\"\",\"active\":false,\"target\":\"\"}',\n",
       "   '{\"ts\":\"2024-07-31T12:14:46.700Z\",\"station\":\"sld\",\"code\":1,\"description\":\"\",\"active\":false,\"target\":\"\"}',\n",
       "   '{\"ts\":\"2024-07-31T12:14:46.700Z\",\"station\":\"sld\",\"code\":1,\"description\":\"\",\"active\":false,\"target\":\"\"}',\n",
       "   '{\"ts\":\"2024-07-31T12:14:48.728Z\",\"station\":\"sld\",\"code\":1,\"description\":\"\",\"active\":false,\"target\":\"\"}',\n",
       "   '{\"ts\":\"2024-07-31T12:14:48.728Z\",\"station\":\"sld\",\"code\":1,\"description\":\"\",\"active\":false,\"target\":\"\"}',\n",
       "   '{\"ts\":\"2024-07-31T12:14:50.751Z\",\"station\":\"sld\",\"code\":1,\"description\":\"\",\"active\":false,\"target\":\"\"}',\n",
       "   '{\"ts\":\"2024-07-31T12:14:50.751Z\",\"station\":\"sld\",\"code\":1,\"description\":\"\",\"active\":false,\"target\":\"\"}']},\n",
       " 'f/i/state/vgr': {'timestamp': [1722428082.154479,\n",
       "   1722428082.3114948,\n",
       "   1722428084.154262,\n",
       "   1722428084.2126331,\n",
       "   1722428086.1872041,\n",
       "   1722428086.289102,\n",
       "   1722428088.157761,\n",
       "   1722428088.2246761,\n",
       "   1722428090.21437,\n",
       "   1722428090.282933,\n",
       "   1722428092.204318,\n",
       "   1722428092.2889888],\n",
       "  'payload': ['{\"ts\":\"2024-07-31T12:14:40.649Z\",\"station\":\"vgr\",\"code\":1,\"description\":\"\",\"active\":false,\"target\":\"\"}',\n",
       "   '{\"ts\":\"2024-07-31T12:14:40.649Z\",\"station\":\"vgr\",\"code\":1,\"description\":\"\",\"active\":false,\"target\":\"\"}',\n",
       "   '{\"ts\":\"2024-07-31T12:14:42.678Z\",\"station\":\"vgr\",\"code\":1,\"description\":\"\",\"active\":false,\"target\":\"\"}',\n",
       "   '{\"ts\":\"2024-07-31T12:14:42.678Z\",\"station\":\"vgr\",\"code\":1,\"description\":\"\",\"active\":false,\"target\":\"\"}',\n",
       "   '{\"ts\":\"2024-07-31T12:14:44.697Z\",\"station\":\"vgr\",\"code\":1,\"description\":\"\",\"active\":false,\"target\":\"\"}',\n",
       "   '{\"ts\":\"2024-07-31T12:14:44.697Z\",\"station\":\"vgr\",\"code\":1,\"description\":\"\",\"active\":false,\"target\":\"\"}',\n",
       "   '{\"ts\":\"2024-07-31T12:14:46.720Z\",\"station\":\"vgr\",\"code\":1,\"description\":\"\",\"active\":false,\"target\":\"\"}',\n",
       "   '{\"ts\":\"2024-07-31T12:14:46.720Z\",\"station\":\"vgr\",\"code\":1,\"description\":\"\",\"active\":false,\"target\":\"\"}',\n",
       "   '{\"ts\":\"2024-07-31T12:14:48.748Z\",\"station\":\"vgr\",\"code\":1,\"description\":\"\",\"active\":false,\"target\":\"\"}',\n",
       "   '{\"ts\":\"2024-07-31T12:14:48.748Z\",\"station\":\"vgr\",\"code\":1,\"description\":\"\",\"active\":false,\"target\":\"\"}',\n",
       "   '{\"ts\":\"2024-07-31T12:14:50.770Z\",\"station\":\"vgr\",\"code\":1,\"description\":\"\",\"active\":false,\"target\":\"\"}',\n",
       "   '{\"ts\":\"2024-07-31T12:14:50.770Z\",\"station\":\"vgr\",\"code\":1,\"description\":\"\",\"active\":false,\"target\":\"\"}']},\n",
       " 'f/i/state/dsi': {'timestamp': [1722428082.154623,\n",
       "   1722428082.3342998,\n",
       "   1722428084.154388,\n",
       "   1722428084.2368,\n",
       "   1722428086.187329,\n",
       "   1722428086.2892292,\n",
       "   1722428088.181317,\n",
       "   1722428088.2461572,\n",
       "   1722428090.214499,\n",
       "   1722428090.3055959,\n",
       "   1722428092.2270432,\n",
       "   1722428092.315205],\n",
       "  'payload': ['{\"ts\":\"2024-07-31T12:14:40.519Z\",\"station\":\"dsi\",\"code\":1,\"description\":\"\",\"target\":\"\",\"active\":false}',\n",
       "   '{\"ts\":\"2024-07-31T12:14:40.519Z\",\"station\":\"dsi\",\"code\":1,\"description\":\"\",\"target\":\"\",\"active\":false}',\n",
       "   '{\"ts\":\"2024-07-31T12:14:42.548Z\",\"station\":\"dsi\",\"code\":1,\"description\":\"\",\"target\":\"\",\"active\":false}',\n",
       "   '{\"ts\":\"2024-07-31T12:14:42.548Z\",\"station\":\"dsi\",\"code\":1,\"description\":\"\",\"target\":\"\",\"active\":false}',\n",
       "   '{\"ts\":\"2024-07-31T12:14:44.567Z\",\"station\":\"dsi\",\"code\":1,\"description\":\"\",\"target\":\"\",\"active\":false}',\n",
       "   '{\"ts\":\"2024-07-31T12:14:44.567Z\",\"station\":\"dsi\",\"code\":1,\"description\":\"\",\"target\":\"\",\"active\":false}',\n",
       "   '{\"ts\":\"2024-07-31T12:14:46.589Z\",\"station\":\"dsi\",\"code\":1,\"description\":\"\",\"target\":\"\",\"active\":false}',\n",
       "   '{\"ts\":\"2024-07-31T12:14:46.589Z\",\"station\":\"dsi\",\"code\":1,\"description\":\"\",\"target\":\"\",\"active\":false}',\n",
       "   '{\"ts\":\"2024-07-31T12:14:48.618Z\",\"station\":\"dsi\",\"code\":1,\"description\":\"\",\"target\":\"\",\"active\":false}',\n",
       "   '{\"ts\":\"2024-07-31T12:14:48.618Z\",\"station\":\"dsi\",\"code\":1,\"description\":\"\",\"target\":\"\",\"active\":false}',\n",
       "   '{\"ts\":\"2024-07-31T12:14:50.640Z\",\"station\":\"dsi\",\"code\":1,\"description\":\"\",\"target\":\"\",\"active\":false}',\n",
       "   '{\"ts\":\"2024-07-31T12:14:50.640Z\",\"station\":\"dsi\",\"code\":1,\"description\":\"\",\"target\":\"\",\"active\":false}']},\n",
       " 'f/i/state/dso': {'timestamp': [1722428083.102299,\n",
       "   1722428083.1269,\n",
       "   1722428085.043571,\n",
       "   1722428085.094091,\n",
       "   1722428087.0974872,\n",
       "   1722428087.119802,\n",
       "   1722428089.1439118,\n",
       "   1722428089.1674392,\n",
       "   1722428092.173651,\n",
       "   1722428092.227267],\n",
       "  'payload': ['{\"ts\":\"2024-07-31T12:14:42.347Z\",\"station\":\"dso\",\"code\":1,\"description\":\"\",\"target\":\"\",\"active\":false}',\n",
       "   '{\"ts\":\"2024-07-31T12:14:42.347Z\",\"station\":\"dso\",\"code\":1,\"description\":\"\",\"target\":\"\",\"active\":false}',\n",
       "   '{\"ts\":\"2024-07-31T12:14:44.376Z\",\"station\":\"dso\",\"code\":1,\"description\":\"\",\"target\":\"\",\"active\":false}',\n",
       "   '{\"ts\":\"2024-07-31T12:14:44.376Z\",\"station\":\"dso\",\"code\":1,\"description\":\"\",\"target\":\"\",\"active\":false}',\n",
       "   '{\"ts\":\"2024-07-31T12:14:46.398Z\",\"station\":\"dso\",\"code\":1,\"description\":\"\",\"target\":\"\",\"active\":false}',\n",
       "   '{\"ts\":\"2024-07-31T12:14:46.398Z\",\"station\":\"dso\",\"code\":1,\"description\":\"\",\"target\":\"\",\"active\":false}',\n",
       "   '{\"ts\":\"2024-07-31T12:14:48.427Z\",\"station\":\"dso\",\"code\":1,\"description\":\"\",\"target\":\"\",\"active\":false}',\n",
       "   '{\"ts\":\"2024-07-31T12:14:48.427Z\",\"station\":\"dso\",\"code\":1,\"description\":\"\",\"target\":\"\",\"active\":false}',\n",
       "   '{\"ts\":\"2024-07-31T12:14:50.450Z\",\"station\":\"dso\",\"code\":1,\"description\":\"\",\"target\":\"\",\"active\":false}',\n",
       "   '{\"ts\":\"2024-07-31T12:14:50.450Z\",\"station\":\"dso\",\"code\":1,\"description\":\"\",\"target\":\"\",\"active\":false}']}}"
      ]
     },
     "execution_count": 7,
     "metadata": {},
     "output_type": "execute_result"
    }
   ],
   "source": [
    "messages"
   ]
  },
  {
   "cell_type": "code",
   "execution_count": null,
   "metadata": {},
   "outputs": [],
   "source": [
    "mqtt_connector.stop()"
   ]
  },
  {
   "cell_type": "code",
   "execution_count": 2,
   "metadata": {},
   "outputs": [],
   "source": [
    "from connectors.connector_influxdb import InfluxDBConnector"
   ]
  },
  {
   "cell_type": "code",
   "execution_count": 3,
   "metadata": {},
   "outputs": [],
   "source": [
    "influx_connector = InfluxDBConnector(host=\"http://localhost\", port=8086, token='OSrZeEdPPaD7dyj8izYIRqZK4t7nycrKoNsZeVIsGSJ1kZdDwi7XsJgvawJnNC80envGry7EibcVbePaFzJKsA==', org=\"SINTEF\", bucket='toyfactory-positions')"
   ]
  },
  {
   "cell_type": "code",
   "execution_count": 4,
   "metadata": {},
   "outputs": [
    {
     "name": "stderr",
     "output_type": "stream",
     "text": [
      "2024-09-06 10:59:49,100 INFO: [connector_influxdb.py - start] Successfully connected to InfluxDB\n"
     ]
    }
   ],
   "source": [
    "influx_connector.start()"
   ]
  },
  {
   "cell_type": "code",
   "execution_count": 5,
   "metadata": {},
   "outputs": [
    {
     "data": {
      "text/plain": [
       "['_monitoring',\n",
       " 'sintef',\n",
       " 'toyfactory-states',\n",
       " '_tasks',\n",
       " 'toyfactory-positions']"
      ]
     },
     "execution_count": 5,
     "metadata": {},
     "output_type": "execute_result"
    }
   ],
   "source": [
    "influx_connector.get_bucket_names()"
   ]
  },
  {
   "cell_type": "code",
   "execution_count": 6,
   "metadata": {},
   "outputs": [
    {
     "data": {
      "text/plain": [
       "['pan', 'tilt']"
      ]
     },
     "execution_count": 6,
     "metadata": {},
     "output_type": "execute_result"
    }
   ],
   "source": [
    "influx_connector.get_fields()"
   ]
  },
  {
   "cell_type": "code",
   "execution_count": 7,
   "metadata": {},
   "outputs": [
    {
     "data": {
      "text/plain": [
       "['_start',\n",
       " '_stop',\n",
       " '_field',\n",
       " '_measurement',\n",
       " 'bucket',\n",
       " 'device',\n",
       " 'host',\n",
       " 'topic']"
      ]
     },
     "execution_count": 7,
     "metadata": {},
     "output_type": "execute_result"
    }
   ],
   "source": [
    "influx_connector.get_tags()"
   ]
  },
  {
   "cell_type": "code",
   "execution_count": 9,
   "metadata": {},
   "outputs": [],
   "source": [
    "df = influx_connector.query_field(bucket=\"toyfactory-positions\", measurement=\"pos\", query_return_type=\"pandas\")"
   ]
  },
  {
   "cell_type": "code",
   "execution_count": 16,
   "metadata": {},
   "outputs": [
    {
     "data": {
      "text/html": [
       "<div>\n",
       "<style scoped>\n",
       "    .dataframe tbody tr th:only-of-type {\n",
       "        vertical-align: middle;\n",
       "    }\n",
       "\n",
       "    .dataframe tbody tr th {\n",
       "        vertical-align: top;\n",
       "    }\n",
       "\n",
       "    .dataframe thead th {\n",
       "        text-align: right;\n",
       "    }\n",
       "</style>\n",
       "<table border=\"1\" class=\"dataframe\">\n",
       "  <thead>\n",
       "    <tr style=\"text-align: right;\">\n",
       "      <th></th>\n",
       "      <th>result</th>\n",
       "      <th>table</th>\n",
       "      <th>_start</th>\n",
       "      <th>_stop</th>\n",
       "      <th>_time</th>\n",
       "      <th>_measurement</th>\n",
       "      <th>bucket</th>\n",
       "      <th>device</th>\n",
       "      <th>host</th>\n",
       "      <th>topic</th>\n",
       "      <th>pan</th>\n",
       "      <th>tilt</th>\n",
       "    </tr>\n",
       "  </thead>\n",
       "  <tbody>\n",
       "    <tr>\n",
       "      <th>0</th>\n",
       "      <td>_result</td>\n",
       "      <td>0</td>\n",
       "      <td>2024-09-06 08:06:34.459748+00:00</td>\n",
       "      <td>2024-09-06 09:06:34.459748+00:00</td>\n",
       "      <td>2024-09-06 08:39:04.561158+00:00</td>\n",
       "      <td>pos</td>\n",
       "      <td>toyfactory-positions</td>\n",
       "      <td>ptu</td>\n",
       "      <td>Ans-MacBook-Pro.sintef.no</td>\n",
       "      <td>i/ptu/pos</td>\n",
       "      <td>0.983853</td>\n",
       "      <td>-0.366</td>\n",
       "    </tr>\n",
       "    <tr>\n",
       "      <th>1</th>\n",
       "      <td>_result</td>\n",
       "      <td>0</td>\n",
       "      <td>2024-09-06 08:06:34.459748+00:00</td>\n",
       "      <td>2024-09-06 09:06:34.459748+00:00</td>\n",
       "      <td>2024-09-06 08:39:04.608760+00:00</td>\n",
       "      <td>pos</td>\n",
       "      <td>toyfactory-positions</td>\n",
       "      <td>ptu</td>\n",
       "      <td>Ans-MacBook-Pro.sintef.no</td>\n",
       "      <td>i/ptu/pos</td>\n",
       "      <td>0.983853</td>\n",
       "      <td>-0.366</td>\n",
       "    </tr>\n",
       "    <tr>\n",
       "      <th>2</th>\n",
       "      <td>_result</td>\n",
       "      <td>0</td>\n",
       "      <td>2024-09-06 08:06:34.459748+00:00</td>\n",
       "      <td>2024-09-06 09:06:34.459748+00:00</td>\n",
       "      <td>2024-09-06 08:39:06.556771+00:00</td>\n",
       "      <td>pos</td>\n",
       "      <td>toyfactory-positions</td>\n",
       "      <td>ptu</td>\n",
       "      <td>Ans-MacBook-Pro.sintef.no</td>\n",
       "      <td>i/ptu/pos</td>\n",
       "      <td>0.983853</td>\n",
       "      <td>-0.366</td>\n",
       "    </tr>\n",
       "    <tr>\n",
       "      <th>3</th>\n",
       "      <td>_result</td>\n",
       "      <td>0</td>\n",
       "      <td>2024-09-06 08:06:34.459748+00:00</td>\n",
       "      <td>2024-09-06 09:06:34.459748+00:00</td>\n",
       "      <td>2024-09-06 08:39:06.608068+00:00</td>\n",
       "      <td>pos</td>\n",
       "      <td>toyfactory-positions</td>\n",
       "      <td>ptu</td>\n",
       "      <td>Ans-MacBook-Pro.sintef.no</td>\n",
       "      <td>i/ptu/pos</td>\n",
       "      <td>0.983853</td>\n",
       "      <td>-0.366</td>\n",
       "    </tr>\n",
       "    <tr>\n",
       "      <th>4</th>\n",
       "      <td>_result</td>\n",
       "      <td>0</td>\n",
       "      <td>2024-09-06 08:06:34.459748+00:00</td>\n",
       "      <td>2024-09-06 09:06:34.459748+00:00</td>\n",
       "      <td>2024-09-06 08:39:08.631014+00:00</td>\n",
       "      <td>pos</td>\n",
       "      <td>toyfactory-positions</td>\n",
       "      <td>ptu</td>\n",
       "      <td>Ans-MacBook-Pro.sintef.no</td>\n",
       "      <td>i/ptu/pos</td>\n",
       "      <td>0.983853</td>\n",
       "      <td>-0.366</td>\n",
       "    </tr>\n",
       "  </tbody>\n",
       "</table>\n",
       "</div>"
      ],
      "text/plain": [
       "    result  table                           _start  \\\n",
       "0  _result      0 2024-09-06 08:06:34.459748+00:00   \n",
       "1  _result      0 2024-09-06 08:06:34.459748+00:00   \n",
       "2  _result      0 2024-09-06 08:06:34.459748+00:00   \n",
       "3  _result      0 2024-09-06 08:06:34.459748+00:00   \n",
       "4  _result      0 2024-09-06 08:06:34.459748+00:00   \n",
       "\n",
       "                             _stop                            _time  \\\n",
       "0 2024-09-06 09:06:34.459748+00:00 2024-09-06 08:39:04.561158+00:00   \n",
       "1 2024-09-06 09:06:34.459748+00:00 2024-09-06 08:39:04.608760+00:00   \n",
       "2 2024-09-06 09:06:34.459748+00:00 2024-09-06 08:39:06.556771+00:00   \n",
       "3 2024-09-06 09:06:34.459748+00:00 2024-09-06 08:39:06.608068+00:00   \n",
       "4 2024-09-06 09:06:34.459748+00:00 2024-09-06 08:39:08.631014+00:00   \n",
       "\n",
       "  _measurement                bucket device                       host  \\\n",
       "0          pos  toyfactory-positions    ptu  Ans-MacBook-Pro.sintef.no   \n",
       "1          pos  toyfactory-positions    ptu  Ans-MacBook-Pro.sintef.no   \n",
       "2          pos  toyfactory-positions    ptu  Ans-MacBook-Pro.sintef.no   \n",
       "3          pos  toyfactory-positions    ptu  Ans-MacBook-Pro.sintef.no   \n",
       "4          pos  toyfactory-positions    ptu  Ans-MacBook-Pro.sintef.no   \n",
       "\n",
       "       topic       pan   tilt  \n",
       "0  i/ptu/pos  0.983853 -0.366  \n",
       "1  i/ptu/pos  0.983853 -0.366  \n",
       "2  i/ptu/pos  0.983853 -0.366  \n",
       "3  i/ptu/pos  0.983853 -0.366  \n",
       "4  i/ptu/pos  0.983853 -0.366  "
      ]
     },
     "execution_count": 16,
     "metadata": {},
     "output_type": "execute_result"
    }
   ],
   "source": [
    "#df.device.unique()\n",
    "df.columns\n",
    "df.head()\n",
    "#df.head()"
   ]
  },
  {
   "cell_type": "code",
   "execution_count": 17,
   "metadata": {},
   "outputs": [],
   "source": [
    "# stop/disconnect connectors\n",
    "influx_connector.disconnect()\n",
    "mqtt_connector.stop()\n"
   ]
  },
  {
   "cell_type": "code",
   "execution_count": 56,
   "metadata": {},
   "outputs": [
    {
     "name": "stdout",
     "output_type": "stream",
     "text": [
      "<TimeseriesProperty:\n",
      "\turi: http://sindit.sintef.no/2.0#test\n",
      "\tpropertyUnit: m/s\n",
      "\tpropertyDescription: Test description\n",
      "\tpropertyName: Test\n",
      "\ttimeseriesIdentifiers: {'org': 'SINTEF', 'bucket': 'toyfactory-positions', 'measurement': 'pos', 'field': 'x'}\n",
      "\ttimeseriesRetrievalMethod: sum\n",
      "\ttimeseriesTags: {'device': 'device1'}\n",
      "\t\n",
      ">\n",
      "{\n",
      "  \"class_uri\": \"urn:samm:sindit.sintef.no:1.0.0#TimeseriesProperty\",\n",
      "  \"uri\": \"http://sindit.sintef.no/2.0#test\",\n",
      "  \"propertyUnit\": \"m/s\",\n",
      "  \"propertyDescription\": \"Test description\",\n",
      "  \"propertyName\": \"Test\",\n",
      "  \"timeseriesIdentifiers\": {\n",
      "    \"org\": \"SINTEF\",\n",
      "    \"bucket\": \"toyfactory-positions\",\n",
      "    \"measurement\": \"pos\",\n",
      "    \"field\": \"x\"\n",
      "  },\n",
      "  \"timeseriesRetrievalMethod\": \"sum\",\n",
      "  \"timeseriesTags\": {\n",
      "    \"device\": \"device1\"\n",
      "  }\n",
      "}\n",
      "@prefix ns1: <urn:samm:sindit.sintef.no:1.0.0#> .\n",
      "@prefix xsd: <http://www.w3.org/2001/XMLSchema#> .\n",
      "\n",
      "<http://sindit.sintef.no/2.0#test> a ns1:TimeseriesProperty ;\n",
      "    ns1:propertyDescription \"Test description\"^^xsd:string ;\n",
      "    ns1:propertyName \"Test\"^^xsd:string ;\n",
      "    ns1:propertyUnit \"m/s\"^^xsd:string ;\n",
      "    ns1:timeseriesIdentifiers \"{\\\"org\\\": \\\"SINTEF\\\", \\\"bucket\\\": \\\"toyfactory-positions\\\", \\\"measurement\\\": \\\"pos\\\", \\\"field\\\": \\\"x\\\"}\" ;\n",
      "    ns1:timeseriesRetrievalMethod \"sum\"^^xsd:string ;\n",
      "    ns1:timeseriesTags \"{\\\"device\\\": \\\"device1\\\"}\" .\n",
      "\n",
      "\n",
      "new_test_json\n",
      "<TimeseriesProperty:\n",
      "\turi: http://sindit.sintef.no/2.0#test\n",
      "\tpropertyUnit: m/s\n",
      "\tpropertyDescription: Test description\n",
      "\tpropertyName: Test\n",
      "\ttimeseriesIdentifiers: {'org': 'SINTEF', 'bucket': 'toyfactory-positions', 'measurement': 'pos', 'field': 'x'}\n",
      "\ttimeseriesRetrievalMethod: sum\n",
      "\ttimeseriesTags: {'device': 'device1'}\n",
      "\t\n",
      ">\n",
      "PREFIX ns1: <urn:samm:sindit.sintef.no:1.0.0#>\n",
      "PREFIX xsd: <http://www.w3.org/2001/XMLSchema#>\n",
      "\n",
      "<http://sindit.sintef.no/2.0#test>\n",
      "    a ns1:TimeseriesProperty ;\n",
      "    ns1:propertyDescription \"Test description\"^^xsd:string ;\n",
      "    ns1:propertyName \"Test\"^^xsd:string ;\n",
      "    ns1:propertyUnit \"m/s\"^^xsd:string ;\n",
      "    ns1:timeseriesIdentifiers \"{\\\"org\\\": \\\"SINTEF\\\", \\\"bucket\\\": \\\"toyfactory-positions\\\", \\\"measurement\\\": \\\"pos\\\", \\\"field\\\": \\\"x\\\"}\" ;\n",
      "    ns1:timeseriesRetrievalMethod \"sum\"^^xsd:string ;\n",
      "    ns1:timeseriesTags \"{\\\"device\\\": \\\"device1\\\"}\" ;\n",
      ".\n",
      "\n",
      "new_test_rdf\n",
      "<TimeseriesProperty:\n",
      "\turi: http://sindit.sintef.no/2.0#test\n",
      "\tpropertyUnit: m/s\n",
      "\tpropertyDescription: Test description\n",
      "\tpropertyName: Test\n",
      "\ttimeseriesIdentifiers: {'org': 'SINTEF', 'bucket': 'toyfactory-positions', 'measurement': 'pos', 'field': 'x'}\n",
      "\ttimeseriesRetrievalMethod: sum\n",
      "\ttimeseriesTags: {'device': 'device1'}\n",
      "\t\n",
      ">\n"
     ]
    }
   ],
   "source": [
    "from knowledge_graph.graph_model import TimeseriesProperty\n",
    "from rdflib import XSD, Graph, URIRef\n",
    "from knowledge_graph.graph_model import (\n",
    "    AbstractAsset,\n",
    "    Connection,\n",
    "    GraphNamespace,\n",
    "    StreamingProperty,\n",
    "    TimeseriesProperty,\n",
    "    URIClassMapping,\n",
    ")\n",
    "\n",
    "test = TimeseriesProperty(uri=\"http://sindit.sintef.no/2.0#test\", propertyName=\"Test\", propertyUnit=\"m/s\", propertyDescription=\"Test description\", \n",
    "                          timeseriesIdentifiers={\"org\": \"SINTEF\", \"bucket\": \"toyfactory-positions\", \"measurement\": \"pos\", \"field\": \"x\"},\n",
    "                          timeseriesRetrievalMethod=\"sum\", timeseriesTags={\"device\": \"device1\"})\n",
    "\n",
    "print(test)\n",
    "test_json = test.model_dump_json(indent=2, exclude_none=True)\n",
    "test_rdf = test.rdf()\n",
    "print(test_json)\n",
    "print(test_rdf)\n",
    "\n",
    "new_test_json = TimeseriesProperty.model_validate_json(test_json)\n",
    "\n",
    "#new_test_rdf = TimeseriesProperty.rdf_load(test_rdf)\n",
    "print(\"new_test_json\")\n",
    "print(new_test_json)\n",
    "\n",
    "g= Graph()\n",
    "g += test.g()\n",
    "print(g.serialize(format=\"longturtle\"))\n",
    "new_test_rdf = TimeseriesProperty.deserialize(\n",
    "    g = g,\n",
    "    node_class = TimeseriesProperty,\n",
    "    node_uri = URIRef(\"http://sindit.sintef.no/2.0#test\"),\n",
    "    uri_class_mapping = URIClassMapping\n",
    ")\n",
    "\n",
    "print(\"new_test_rdf\")\n",
    "print(new_test_rdf[\"http://sindit.sintef.no/2.0#test\"])"
   ]
  }
 ],
 "metadata": {
  "kernelspec": {
   "display_name": ".venv",
   "language": "python",
   "name": "python3"
  },
  "language_info": {
   "codemirror_mode": {
    "name": "ipython",
    "version": 3
   },
   "file_extension": ".py",
   "mimetype": "text/x-python",
   "name": "python",
   "nbconvert_exporter": "python",
   "pygments_lexer": "ipython3",
   "version": "3.12.2"
  }
 },
 "nbformat": 4,
 "nbformat_minor": 2
}
