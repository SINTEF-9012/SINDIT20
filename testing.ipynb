{
 "cells": [
  {
   "cell_type": "code",
   "execution_count": 3,
   "metadata": {},
   "outputs": [],
   "source": [
    "import os\n",
    "\n",
    "# Load environment variables from a .env file\n",
    "from dotenv import load_dotenv\n",
    "\n",
    "load_dotenv('/Users/gorans/projects/monorepo/projects/sindit/environment_and_configuration/dev_environment_backend.env')\n",
    "\n",
    "# Now you can access the variables\n",
    "FAST_API_HOST = os.getenv('FAST_API_HOST')\n",
    "FAST_API_PORT = os.getenv('FAST_API_PORT')\n",
    "\n",
    "GRAPHDB_HOST = os.getenv('GRAPHDB_HOST')\n",
    "GRAPHDB_PORT = os.getenv('GRAPHDB_PORT')\n",
    "GRAPHDB_USERNAME = os.getenv('GRAPHDB_USERNAME')\n",
    "GRAPHDB_PASSWORD = os.getenv('GRAPHDB_PASSWORD')\n",
    "GRPAPHDB_REPOSITORY = os.getenv('GRPAPHDB_REPOSITORY')\n",
    "\n",
    "LOG_LEVEL = os.getenv('LOG_LEVEL')\n",
    "\n",
    "USE_HASHICORP_VAULT = os.getenv('USE_HASHICORP_VAULT')\n",
    "FSVAULT_PATH = os.getenv('FSVAULT_PATH')"
   ]
  },
  {
   "cell_type": "code",
   "execution_count": 4,
   "metadata": {},
   "outputs": [
    {
     "data": {
      "text/plain": [
       "'0.0.0.0'"
      ]
     },
     "execution_count": 4,
     "metadata": {},
     "output_type": "execute_result"
    }
   ],
   "source": []
  },
  {
   "cell_type": "code",
   "execution_count": 9,
   "metadata": {},
   "outputs": [],
   "source": [
    "from initialize_objects import sindit_kg_connector\n",
    "from rdflib import XSD, Graph, URIRef\n",
    "\n",
    "from knowledge_graph.graph_model import (\n",
    "    AbstractAsset,\n",
    "    Connection,\n",
    "    GraphNamespace,\n",
    "    StreamingProperty,\n",
    "    TimeseriesProperty,\n",
    "    URIClassMapping,\n",
    ")\n"
   ]
  },
  {
   "cell_type": "code",
   "execution_count": 12,
   "metadata": {},
   "outputs": [],
   "source": [
    "    mqtt_connection = Connection(\n",
    "        uri=URIRef(\"http://sindit.sintef.no/2.0#mqtt-connection-new\"),\n",
    "        type=\"MQTT\",\n",
    "        host=\"localhost\",\n",
    "        port=1883,\n",
    "        username=\"admin\",\n",
    "        passwordPath=\"admin\",\n",
    "        label=\"MQTT Connection\",\n",
    "    )"
   ]
  },
  {
   "cell_type": "code",
   "execution_count": 13,
   "metadata": {},
   "outputs": [
    {
     "data": {
      "text/plain": [
       "True"
      ]
     },
     "execution_count": 13,
     "metadata": {},
     "output_type": "execute_result"
    }
   ],
   "source": [
    "sindit_kg_connector.save_node(mqtt_connection)"
   ]
  },
  {
   "cell_type": "code",
   "execution_count": 15,
   "metadata": {},
   "outputs": [],
   "source": [
    "connection = sindit_kg_connector.load_node_by_uri(\"http://sindit.sintef.no/2.0#mqtt-connection-new\")"
   ]
  },
  {
   "cell_type": "code",
   "execution_count": 16,
   "metadata": {},
   "outputs": [
    {
     "data": {
      "text/plain": [
       "Connection(class_uri=rdflib.term.URIRef('urn:samm:sindit.sintef.no:1.0.0#Connection'), uri=rdflib.term.URIRef('http://sindit.sintef.no/2.0#mqtt-connection-new'), label=rdflib.term.Literal('MQTT Connection'), type=rdflib.term.Literal('MQTT'), host=rdflib.term.Literal('localhost'), port=rdflib.term.Literal('1883', datatype=rdflib.term.URIRef('http://www.w3.org/2001/XMLSchema#integer')), username=rdflib.term.Literal('admin'), passwordPath=rdflib.term.Literal('admin'), tokenPath=None, isConnected=None, connectionDescription=None)"
      ]
     },
     "execution_count": 16,
     "metadata": {},
     "output_type": "execute_result"
    }
   ],
   "source": [
    "connection"
   ]
  },
  {
   "cell_type": "code",
   "execution_count": null,
   "metadata": {},
   "outputs": [],
   "source": []
  }
 ],
 "metadata": {
  "kernelspec": {
   "display_name": ".venv",
   "language": "python",
   "name": "python3"
  },
  "language_info": {
   "codemirror_mode": {
    "name": "ipython",
    "version": 3
   },
   "file_extension": ".py",
   "mimetype": "text/x-python",
   "name": "python",
   "nbconvert_exporter": "python",
   "pygments_lexer": "ipython3",
   "version": "3.11.9"
  }
 },
 "nbformat": 4,
 "nbformat_minor": 2
}
