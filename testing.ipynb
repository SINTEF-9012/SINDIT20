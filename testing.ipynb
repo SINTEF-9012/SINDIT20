{
 "cells": [
  {
   "cell_type": "code",
   "execution_count": 1,
   "metadata": {},
   "outputs": [],
   "source": [
    "import os\n",
    "\n",
    "# Load environment variables from a .env file\n",
    "from dotenv import load_dotenv\n",
    "\n",
    "load_dotenv('/Users/gorans/projects/monorepo/projects/sindit/environment_and_configuration/dev_environment_backend.env')\n",
    "load_dotenv('.env') # not tracked by git\n",
    "\n",
    "# Now you can access the variables\n",
    "FAST_API_HOST = os.getenv('FAST_API_HOST')\n",
    "FAST_API_PORT = os.getenv('FAST_API_PORT')\n",
    "\n",
    "GRAPHDB_HOST = os.getenv('GRAPHDB_HOST')\n",
    "GRAPHDB_PORT = os.getenv('GRAPHDB_PORT')\n",
    "GRAPHDB_USERNAME = os.getenv('GRAPHDB_USERNAME')\n",
    "GRAPHDB_PASSWORD = os.getenv('GRAPHDB_PASSWORD')\n",
    "GRPAPHDB_REPOSITORY = os.getenv('GRPAPHDB_REPOSITORY')\n",
    "\n",
    "LOG_LEVEL = os.getenv('LOG_LEVEL')\n",
    "\n",
    "USE_HASHICORP_VAULT = os.getenv('USE_HASHICORP_VAULT')\n",
    "FSVAULT_PATH = os.getenv('FSVAULT_PATH')"
   ]
  },
  {
   "cell_type": "code",
   "execution_count": 2,
   "metadata": {},
   "outputs": [
    {
     "name": "stderr",
     "output_type": "stream",
     "text": [
      "2024-07-31 09:39:18,456 INFO: [initialize_objects.py - <module>] Initializing objects from environment variables...\n",
      "2024-07-31 09:39:18,456 INFO: [GraphDBPersistenceService.py - _connect] Connecting to GraphDB...\n",
      "2024-07-31 09:39:18,456 DEBUG: [GraphDBPersistenceService.py - _connect] Trying to connect to uri http://localhost:7200/repositories/SINDIT/health.\n",
      "2024-07-31 09:39:18,468 ERROR: [GraphDBPersistenceService.py - _connect] GraphDB unavailable or Authentication invalid!. Reason: HTTPConnectionPool(host='localhost', port=7200): Max retries exceeded with url: /repositories/SINDIT/health (Caused by NewConnectionError('<urllib3.connection.HTTPConnection object at 0x117d78b10>: Failed to establish a new connection: [Errno 61] Connection refused')). Trying again in 10 seconds...\n",
      "2024-07-31 09:39:28,472 INFO: [GraphDBPersistenceService.py - _connect] Connecting to GraphDB...\n",
      "2024-07-31 09:39:28,474 DEBUG: [GraphDBPersistenceService.py - _connect] Trying to connect to uri http://localhost:7200/repositories/SINDIT/health.\n",
      "2024-07-31 09:39:28,480 ERROR: [GraphDBPersistenceService.py - _connect] GraphDB unavailable or Authentication invalid!. Reason: HTTPConnectionPool(host='localhost', port=7200): Max retries exceeded with url: /repositories/SINDIT/health (Caused by NewConnectionError('<urllib3.connection.HTTPConnection object at 0x117de4190>: Failed to establish a new connection: [Errno 61] Connection refused')). Trying again in 10 seconds...\n"
     ]
    },
    {
     "ename": "KeyboardInterrupt",
     "evalue": "",
     "output_type": "error",
     "traceback": [
      "\u001b[0;31m---------------------------------------------------------------------------\u001b[0m",
      "\u001b[0;31mConnectionRefusedError\u001b[0m                    Traceback (most recent call last)",
      "File \u001b[0;32m~/projects/monorepo/projects/sindit/.venv/lib/python3.11/site-packages/urllib3/connection.py:196\u001b[0m, in \u001b[0;36mHTTPConnection._new_conn\u001b[0;34m(self)\u001b[0m\n\u001b[1;32m    195\u001b[0m \u001b[38;5;28;01mtry\u001b[39;00m:\n\u001b[0;32m--> 196\u001b[0m     sock \u001b[38;5;241m=\u001b[39m \u001b[43mconnection\u001b[49m\u001b[38;5;241;43m.\u001b[39;49m\u001b[43mcreate_connection\u001b[49m\u001b[43m(\u001b[49m\n\u001b[1;32m    197\u001b[0m \u001b[43m        \u001b[49m\u001b[43m(\u001b[49m\u001b[38;5;28;43mself\u001b[39;49m\u001b[38;5;241;43m.\u001b[39;49m\u001b[43m_dns_host\u001b[49m\u001b[43m,\u001b[49m\u001b[43m \u001b[49m\u001b[38;5;28;43mself\u001b[39;49m\u001b[38;5;241;43m.\u001b[39;49m\u001b[43mport\u001b[49m\u001b[43m)\u001b[49m\u001b[43m,\u001b[49m\n\u001b[1;32m    198\u001b[0m \u001b[43m        \u001b[49m\u001b[38;5;28;43mself\u001b[39;49m\u001b[38;5;241;43m.\u001b[39;49m\u001b[43mtimeout\u001b[49m\u001b[43m,\u001b[49m\n\u001b[1;32m    199\u001b[0m \u001b[43m        \u001b[49m\u001b[43msource_address\u001b[49m\u001b[38;5;241;43m=\u001b[39;49m\u001b[38;5;28;43mself\u001b[39;49m\u001b[38;5;241;43m.\u001b[39;49m\u001b[43msource_address\u001b[49m\u001b[43m,\u001b[49m\n\u001b[1;32m    200\u001b[0m \u001b[43m        \u001b[49m\u001b[43msocket_options\u001b[49m\u001b[38;5;241;43m=\u001b[39;49m\u001b[38;5;28;43mself\u001b[39;49m\u001b[38;5;241;43m.\u001b[39;49m\u001b[43msocket_options\u001b[49m\u001b[43m,\u001b[49m\n\u001b[1;32m    201\u001b[0m \u001b[43m    \u001b[49m\u001b[43m)\u001b[49m\n\u001b[1;32m    202\u001b[0m \u001b[38;5;28;01mexcept\u001b[39;00m socket\u001b[38;5;241m.\u001b[39mgaierror \u001b[38;5;28;01mas\u001b[39;00m e:\n",
      "File \u001b[0;32m~/projects/monorepo/projects/sindit/.venv/lib/python3.11/site-packages/urllib3/util/connection.py:85\u001b[0m, in \u001b[0;36mcreate_connection\u001b[0;34m(address, timeout, source_address, socket_options)\u001b[0m\n\u001b[1;32m     84\u001b[0m \u001b[38;5;28;01mtry\u001b[39;00m:\n\u001b[0;32m---> 85\u001b[0m     \u001b[38;5;28;01mraise\u001b[39;00m err\n\u001b[1;32m     86\u001b[0m \u001b[38;5;28;01mfinally\u001b[39;00m:\n\u001b[1;32m     87\u001b[0m     \u001b[38;5;66;03m# Break explicitly a reference cycle\u001b[39;00m\n",
      "File \u001b[0;32m~/projects/monorepo/projects/sindit/.venv/lib/python3.11/site-packages/urllib3/util/connection.py:73\u001b[0m, in \u001b[0;36mcreate_connection\u001b[0;34m(address, timeout, source_address, socket_options)\u001b[0m\n\u001b[1;32m     72\u001b[0m     sock\u001b[38;5;241m.\u001b[39mbind(source_address)\n\u001b[0;32m---> 73\u001b[0m \u001b[43msock\u001b[49m\u001b[38;5;241;43m.\u001b[39;49m\u001b[43mconnect\u001b[49m\u001b[43m(\u001b[49m\u001b[43msa\u001b[49m\u001b[43m)\u001b[49m\n\u001b[1;32m     74\u001b[0m \u001b[38;5;66;03m# Break explicitly a reference cycle\u001b[39;00m\n",
      "\u001b[0;31mConnectionRefusedError\u001b[0m: [Errno 61] Connection refused",
      "\nThe above exception was the direct cause of the following exception:\n",
      "\u001b[0;31mNewConnectionError\u001b[0m                        Traceback (most recent call last)",
      "File \u001b[0;32m~/projects/monorepo/projects/sindit/.venv/lib/python3.11/site-packages/urllib3/connectionpool.py:789\u001b[0m, in \u001b[0;36mHTTPConnectionPool.urlopen\u001b[0;34m(self, method, url, body, headers, retries, redirect, assert_same_host, timeout, pool_timeout, release_conn, chunked, body_pos, preload_content, decode_content, **response_kw)\u001b[0m\n\u001b[1;32m    788\u001b[0m \u001b[38;5;66;03m# Make the request on the HTTPConnection object\u001b[39;00m\n\u001b[0;32m--> 789\u001b[0m response \u001b[38;5;241m=\u001b[39m \u001b[38;5;28;43mself\u001b[39;49m\u001b[38;5;241;43m.\u001b[39;49m\u001b[43m_make_request\u001b[49m\u001b[43m(\u001b[49m\n\u001b[1;32m    790\u001b[0m \u001b[43m    \u001b[49m\u001b[43mconn\u001b[49m\u001b[43m,\u001b[49m\n\u001b[1;32m    791\u001b[0m \u001b[43m    \u001b[49m\u001b[43mmethod\u001b[49m\u001b[43m,\u001b[49m\n\u001b[1;32m    792\u001b[0m \u001b[43m    \u001b[49m\u001b[43murl\u001b[49m\u001b[43m,\u001b[49m\n\u001b[1;32m    793\u001b[0m \u001b[43m    \u001b[49m\u001b[43mtimeout\u001b[49m\u001b[38;5;241;43m=\u001b[39;49m\u001b[43mtimeout_obj\u001b[49m\u001b[43m,\u001b[49m\n\u001b[1;32m    794\u001b[0m \u001b[43m    \u001b[49m\u001b[43mbody\u001b[49m\u001b[38;5;241;43m=\u001b[39;49m\u001b[43mbody\u001b[49m\u001b[43m,\u001b[49m\n\u001b[1;32m    795\u001b[0m \u001b[43m    \u001b[49m\u001b[43mheaders\u001b[49m\u001b[38;5;241;43m=\u001b[39;49m\u001b[43mheaders\u001b[49m\u001b[43m,\u001b[49m\n\u001b[1;32m    796\u001b[0m \u001b[43m    \u001b[49m\u001b[43mchunked\u001b[49m\u001b[38;5;241;43m=\u001b[39;49m\u001b[43mchunked\u001b[49m\u001b[43m,\u001b[49m\n\u001b[1;32m    797\u001b[0m \u001b[43m    \u001b[49m\u001b[43mretries\u001b[49m\u001b[38;5;241;43m=\u001b[39;49m\u001b[43mretries\u001b[49m\u001b[43m,\u001b[49m\n\u001b[1;32m    798\u001b[0m \u001b[43m    \u001b[49m\u001b[43mresponse_conn\u001b[49m\u001b[38;5;241;43m=\u001b[39;49m\u001b[43mresponse_conn\u001b[49m\u001b[43m,\u001b[49m\n\u001b[1;32m    799\u001b[0m \u001b[43m    \u001b[49m\u001b[43mpreload_content\u001b[49m\u001b[38;5;241;43m=\u001b[39;49m\u001b[43mpreload_content\u001b[49m\u001b[43m,\u001b[49m\n\u001b[1;32m    800\u001b[0m \u001b[43m    \u001b[49m\u001b[43mdecode_content\u001b[49m\u001b[38;5;241;43m=\u001b[39;49m\u001b[43mdecode_content\u001b[49m\u001b[43m,\u001b[49m\n\u001b[1;32m    801\u001b[0m \u001b[43m    \u001b[49m\u001b[38;5;241;43m*\u001b[39;49m\u001b[38;5;241;43m*\u001b[39;49m\u001b[43mresponse_kw\u001b[49m\u001b[43m,\u001b[49m\n\u001b[1;32m    802\u001b[0m \u001b[43m\u001b[49m\u001b[43m)\u001b[49m\n\u001b[1;32m    804\u001b[0m \u001b[38;5;66;03m# Everything went great!\u001b[39;00m\n",
      "File \u001b[0;32m~/projects/monorepo/projects/sindit/.venv/lib/python3.11/site-packages/urllib3/connectionpool.py:495\u001b[0m, in \u001b[0;36mHTTPConnectionPool._make_request\u001b[0;34m(self, conn, method, url, body, headers, retries, timeout, chunked, response_conn, preload_content, decode_content, enforce_content_length)\u001b[0m\n\u001b[1;32m    494\u001b[0m \u001b[38;5;28;01mtry\u001b[39;00m:\n\u001b[0;32m--> 495\u001b[0m     \u001b[43mconn\u001b[49m\u001b[38;5;241;43m.\u001b[39;49m\u001b[43mrequest\u001b[49m\u001b[43m(\u001b[49m\n\u001b[1;32m    496\u001b[0m \u001b[43m        \u001b[49m\u001b[43mmethod\u001b[49m\u001b[43m,\u001b[49m\n\u001b[1;32m    497\u001b[0m \u001b[43m        \u001b[49m\u001b[43murl\u001b[49m\u001b[43m,\u001b[49m\n\u001b[1;32m    498\u001b[0m \u001b[43m        \u001b[49m\u001b[43mbody\u001b[49m\u001b[38;5;241;43m=\u001b[39;49m\u001b[43mbody\u001b[49m\u001b[43m,\u001b[49m\n\u001b[1;32m    499\u001b[0m \u001b[43m        \u001b[49m\u001b[43mheaders\u001b[49m\u001b[38;5;241;43m=\u001b[39;49m\u001b[43mheaders\u001b[49m\u001b[43m,\u001b[49m\n\u001b[1;32m    500\u001b[0m \u001b[43m        \u001b[49m\u001b[43mchunked\u001b[49m\u001b[38;5;241;43m=\u001b[39;49m\u001b[43mchunked\u001b[49m\u001b[43m,\u001b[49m\n\u001b[1;32m    501\u001b[0m \u001b[43m        \u001b[49m\u001b[43mpreload_content\u001b[49m\u001b[38;5;241;43m=\u001b[39;49m\u001b[43mpreload_content\u001b[49m\u001b[43m,\u001b[49m\n\u001b[1;32m    502\u001b[0m \u001b[43m        \u001b[49m\u001b[43mdecode_content\u001b[49m\u001b[38;5;241;43m=\u001b[39;49m\u001b[43mdecode_content\u001b[49m\u001b[43m,\u001b[49m\n\u001b[1;32m    503\u001b[0m \u001b[43m        \u001b[49m\u001b[43menforce_content_length\u001b[49m\u001b[38;5;241;43m=\u001b[39;49m\u001b[43menforce_content_length\u001b[49m\u001b[43m,\u001b[49m\n\u001b[1;32m    504\u001b[0m \u001b[43m    \u001b[49m\u001b[43m)\u001b[49m\n\u001b[1;32m    506\u001b[0m \u001b[38;5;66;03m# We are swallowing BrokenPipeError (errno.EPIPE) since the server is\u001b[39;00m\n\u001b[1;32m    507\u001b[0m \u001b[38;5;66;03m# legitimately able to close the connection after sending a valid response.\u001b[39;00m\n\u001b[1;32m    508\u001b[0m \u001b[38;5;66;03m# With this behaviour, the received response is still readable.\u001b[39;00m\n",
      "File \u001b[0;32m~/projects/monorepo/projects/sindit/.venv/lib/python3.11/site-packages/urllib3/connection.py:398\u001b[0m, in \u001b[0;36mHTTPConnection.request\u001b[0;34m(self, method, url, body, headers, chunked, preload_content, decode_content, enforce_content_length)\u001b[0m\n\u001b[1;32m    397\u001b[0m     \u001b[38;5;28mself\u001b[39m\u001b[38;5;241m.\u001b[39mputheader(header, value)\n\u001b[0;32m--> 398\u001b[0m \u001b[38;5;28;43mself\u001b[39;49m\u001b[38;5;241;43m.\u001b[39;49m\u001b[43mendheaders\u001b[49m\u001b[43m(\u001b[49m\u001b[43m)\u001b[49m\n\u001b[1;32m    400\u001b[0m \u001b[38;5;66;03m# If we're given a body we start sending that in chunks.\u001b[39;00m\n",
      "File \u001b[0;32m/opt/homebrew/Cellar/python@3.11/3.11.9/Frameworks/Python.framework/Versions/3.11/lib/python3.11/http/client.py:1298\u001b[0m, in \u001b[0;36mHTTPConnection.endheaders\u001b[0;34m(self, message_body, encode_chunked)\u001b[0m\n\u001b[1;32m   1297\u001b[0m     \u001b[38;5;28;01mraise\u001b[39;00m CannotSendHeader()\n\u001b[0;32m-> 1298\u001b[0m \u001b[38;5;28;43mself\u001b[39;49m\u001b[38;5;241;43m.\u001b[39;49m\u001b[43m_send_output\u001b[49m\u001b[43m(\u001b[49m\u001b[43mmessage_body\u001b[49m\u001b[43m,\u001b[49m\u001b[43m \u001b[49m\u001b[43mencode_chunked\u001b[49m\u001b[38;5;241;43m=\u001b[39;49m\u001b[43mencode_chunked\u001b[49m\u001b[43m)\u001b[49m\n",
      "File \u001b[0;32m/opt/homebrew/Cellar/python@3.11/3.11.9/Frameworks/Python.framework/Versions/3.11/lib/python3.11/http/client.py:1058\u001b[0m, in \u001b[0;36mHTTPConnection._send_output\u001b[0;34m(self, message_body, encode_chunked)\u001b[0m\n\u001b[1;32m   1057\u001b[0m \u001b[38;5;28;01mdel\u001b[39;00m \u001b[38;5;28mself\u001b[39m\u001b[38;5;241m.\u001b[39m_buffer[:]\n\u001b[0;32m-> 1058\u001b[0m \u001b[38;5;28;43mself\u001b[39;49m\u001b[38;5;241;43m.\u001b[39;49m\u001b[43msend\u001b[49m\u001b[43m(\u001b[49m\u001b[43mmsg\u001b[49m\u001b[43m)\u001b[49m\n\u001b[1;32m   1060\u001b[0m \u001b[38;5;28;01mif\u001b[39;00m message_body \u001b[38;5;129;01mis\u001b[39;00m \u001b[38;5;129;01mnot\u001b[39;00m \u001b[38;5;28;01mNone\u001b[39;00m:\n\u001b[1;32m   1061\u001b[0m \n\u001b[1;32m   1062\u001b[0m     \u001b[38;5;66;03m# create a consistent interface to message_body\u001b[39;00m\n",
      "File \u001b[0;32m/opt/homebrew/Cellar/python@3.11/3.11.9/Frameworks/Python.framework/Versions/3.11/lib/python3.11/http/client.py:996\u001b[0m, in \u001b[0;36mHTTPConnection.send\u001b[0;34m(self, data)\u001b[0m\n\u001b[1;32m    995\u001b[0m \u001b[38;5;28;01mif\u001b[39;00m \u001b[38;5;28mself\u001b[39m\u001b[38;5;241m.\u001b[39mauto_open:\n\u001b[0;32m--> 996\u001b[0m     \u001b[38;5;28;43mself\u001b[39;49m\u001b[38;5;241;43m.\u001b[39;49m\u001b[43mconnect\u001b[49m\u001b[43m(\u001b[49m\u001b[43m)\u001b[49m\n\u001b[1;32m    997\u001b[0m \u001b[38;5;28;01melse\u001b[39;00m:\n",
      "File \u001b[0;32m~/projects/monorepo/projects/sindit/.venv/lib/python3.11/site-packages/urllib3/connection.py:236\u001b[0m, in \u001b[0;36mHTTPConnection.connect\u001b[0;34m(self)\u001b[0m\n\u001b[1;32m    235\u001b[0m \u001b[38;5;28;01mdef\u001b[39;00m \u001b[38;5;21mconnect\u001b[39m(\u001b[38;5;28mself\u001b[39m) \u001b[38;5;241m-\u001b[39m\u001b[38;5;241m>\u001b[39m \u001b[38;5;28;01mNone\u001b[39;00m:\n\u001b[0;32m--> 236\u001b[0m     \u001b[38;5;28mself\u001b[39m\u001b[38;5;241m.\u001b[39msock \u001b[38;5;241m=\u001b[39m \u001b[38;5;28;43mself\u001b[39;49m\u001b[38;5;241;43m.\u001b[39;49m\u001b[43m_new_conn\u001b[49m\u001b[43m(\u001b[49m\u001b[43m)\u001b[49m\n\u001b[1;32m    237\u001b[0m     \u001b[38;5;28;01mif\u001b[39;00m \u001b[38;5;28mself\u001b[39m\u001b[38;5;241m.\u001b[39m_tunnel_host:\n\u001b[1;32m    238\u001b[0m         \u001b[38;5;66;03m# If we're tunneling it means we're connected to our proxy.\u001b[39;00m\n",
      "File \u001b[0;32m~/projects/monorepo/projects/sindit/.venv/lib/python3.11/site-packages/urllib3/connection.py:211\u001b[0m, in \u001b[0;36mHTTPConnection._new_conn\u001b[0;34m(self)\u001b[0m\n\u001b[1;32m    210\u001b[0m \u001b[38;5;28;01mexcept\u001b[39;00m \u001b[38;5;167;01mOSError\u001b[39;00m \u001b[38;5;28;01mas\u001b[39;00m e:\n\u001b[0;32m--> 211\u001b[0m     \u001b[38;5;28;01mraise\u001b[39;00m NewConnectionError(\n\u001b[1;32m    212\u001b[0m         \u001b[38;5;28mself\u001b[39m, \u001b[38;5;124mf\u001b[39m\u001b[38;5;124m\"\u001b[39m\u001b[38;5;124mFailed to establish a new connection: \u001b[39m\u001b[38;5;132;01m{\u001b[39;00me\u001b[38;5;132;01m}\u001b[39;00m\u001b[38;5;124m\"\u001b[39m\n\u001b[1;32m    213\u001b[0m     ) \u001b[38;5;28;01mfrom\u001b[39;00m \u001b[38;5;21;01me\u001b[39;00m\n\u001b[1;32m    215\u001b[0m \u001b[38;5;66;03m# Audit hooks are only available in Python 3.8+\u001b[39;00m\n",
      "\u001b[0;31mNewConnectionError\u001b[0m: <urllib3.connection.HTTPConnection object at 0x117de4190>: Failed to establish a new connection: [Errno 61] Connection refused",
      "\nThe above exception was the direct cause of the following exception:\n",
      "\u001b[0;31mMaxRetryError\u001b[0m                             Traceback (most recent call last)",
      "File \u001b[0;32m~/projects/monorepo/projects/sindit/.venv/lib/python3.11/site-packages/requests/adapters.py:667\u001b[0m, in \u001b[0;36mHTTPAdapter.send\u001b[0;34m(self, request, stream, timeout, verify, cert, proxies)\u001b[0m\n\u001b[1;32m    666\u001b[0m \u001b[38;5;28;01mtry\u001b[39;00m:\n\u001b[0;32m--> 667\u001b[0m     resp \u001b[38;5;241m=\u001b[39m \u001b[43mconn\u001b[49m\u001b[38;5;241;43m.\u001b[39;49m\u001b[43murlopen\u001b[49m\u001b[43m(\u001b[49m\n\u001b[1;32m    668\u001b[0m \u001b[43m        \u001b[49m\u001b[43mmethod\u001b[49m\u001b[38;5;241;43m=\u001b[39;49m\u001b[43mrequest\u001b[49m\u001b[38;5;241;43m.\u001b[39;49m\u001b[43mmethod\u001b[49m\u001b[43m,\u001b[49m\n\u001b[1;32m    669\u001b[0m \u001b[43m        \u001b[49m\u001b[43murl\u001b[49m\u001b[38;5;241;43m=\u001b[39;49m\u001b[43murl\u001b[49m\u001b[43m,\u001b[49m\n\u001b[1;32m    670\u001b[0m \u001b[43m        \u001b[49m\u001b[43mbody\u001b[49m\u001b[38;5;241;43m=\u001b[39;49m\u001b[43mrequest\u001b[49m\u001b[38;5;241;43m.\u001b[39;49m\u001b[43mbody\u001b[49m\u001b[43m,\u001b[49m\n\u001b[1;32m    671\u001b[0m \u001b[43m        \u001b[49m\u001b[43mheaders\u001b[49m\u001b[38;5;241;43m=\u001b[39;49m\u001b[43mrequest\u001b[49m\u001b[38;5;241;43m.\u001b[39;49m\u001b[43mheaders\u001b[49m\u001b[43m,\u001b[49m\n\u001b[1;32m    672\u001b[0m \u001b[43m        \u001b[49m\u001b[43mredirect\u001b[49m\u001b[38;5;241;43m=\u001b[39;49m\u001b[38;5;28;43;01mFalse\u001b[39;49;00m\u001b[43m,\u001b[49m\n\u001b[1;32m    673\u001b[0m \u001b[43m        \u001b[49m\u001b[43massert_same_host\u001b[49m\u001b[38;5;241;43m=\u001b[39;49m\u001b[38;5;28;43;01mFalse\u001b[39;49;00m\u001b[43m,\u001b[49m\n\u001b[1;32m    674\u001b[0m \u001b[43m        \u001b[49m\u001b[43mpreload_content\u001b[49m\u001b[38;5;241;43m=\u001b[39;49m\u001b[38;5;28;43;01mFalse\u001b[39;49;00m\u001b[43m,\u001b[49m\n\u001b[1;32m    675\u001b[0m \u001b[43m        \u001b[49m\u001b[43mdecode_content\u001b[49m\u001b[38;5;241;43m=\u001b[39;49m\u001b[38;5;28;43;01mFalse\u001b[39;49;00m\u001b[43m,\u001b[49m\n\u001b[1;32m    676\u001b[0m \u001b[43m        \u001b[49m\u001b[43mretries\u001b[49m\u001b[38;5;241;43m=\u001b[39;49m\u001b[38;5;28;43mself\u001b[39;49m\u001b[38;5;241;43m.\u001b[39;49m\u001b[43mmax_retries\u001b[49m\u001b[43m,\u001b[49m\n\u001b[1;32m    677\u001b[0m \u001b[43m        \u001b[49m\u001b[43mtimeout\u001b[49m\u001b[38;5;241;43m=\u001b[39;49m\u001b[43mtimeout\u001b[49m\u001b[43m,\u001b[49m\n\u001b[1;32m    678\u001b[0m \u001b[43m        \u001b[49m\u001b[43mchunked\u001b[49m\u001b[38;5;241;43m=\u001b[39;49m\u001b[43mchunked\u001b[49m\u001b[43m,\u001b[49m\n\u001b[1;32m    679\u001b[0m \u001b[43m    \u001b[49m\u001b[43m)\u001b[49m\n\u001b[1;32m    681\u001b[0m \u001b[38;5;28;01mexcept\u001b[39;00m (ProtocolError, \u001b[38;5;167;01mOSError\u001b[39;00m) \u001b[38;5;28;01mas\u001b[39;00m err:\n",
      "File \u001b[0;32m~/projects/monorepo/projects/sindit/.venv/lib/python3.11/site-packages/urllib3/connectionpool.py:843\u001b[0m, in \u001b[0;36mHTTPConnectionPool.urlopen\u001b[0;34m(self, method, url, body, headers, retries, redirect, assert_same_host, timeout, pool_timeout, release_conn, chunked, body_pos, preload_content, decode_content, **response_kw)\u001b[0m\n\u001b[1;32m    841\u001b[0m     new_e \u001b[38;5;241m=\u001b[39m ProtocolError(\u001b[38;5;124m\"\u001b[39m\u001b[38;5;124mConnection aborted.\u001b[39m\u001b[38;5;124m\"\u001b[39m, new_e)\n\u001b[0;32m--> 843\u001b[0m retries \u001b[38;5;241m=\u001b[39m \u001b[43mretries\u001b[49m\u001b[38;5;241;43m.\u001b[39;49m\u001b[43mincrement\u001b[49m\u001b[43m(\u001b[49m\n\u001b[1;32m    844\u001b[0m \u001b[43m    \u001b[49m\u001b[43mmethod\u001b[49m\u001b[43m,\u001b[49m\u001b[43m \u001b[49m\u001b[43murl\u001b[49m\u001b[43m,\u001b[49m\u001b[43m \u001b[49m\u001b[43merror\u001b[49m\u001b[38;5;241;43m=\u001b[39;49m\u001b[43mnew_e\u001b[49m\u001b[43m,\u001b[49m\u001b[43m \u001b[49m\u001b[43m_pool\u001b[49m\u001b[38;5;241;43m=\u001b[39;49m\u001b[38;5;28;43mself\u001b[39;49m\u001b[43m,\u001b[49m\u001b[43m \u001b[49m\u001b[43m_stacktrace\u001b[49m\u001b[38;5;241;43m=\u001b[39;49m\u001b[43msys\u001b[49m\u001b[38;5;241;43m.\u001b[39;49m\u001b[43mexc_info\u001b[49m\u001b[43m(\u001b[49m\u001b[43m)\u001b[49m\u001b[43m[\u001b[49m\u001b[38;5;241;43m2\u001b[39;49m\u001b[43m]\u001b[49m\n\u001b[1;32m    845\u001b[0m \u001b[43m\u001b[49m\u001b[43m)\u001b[49m\n\u001b[1;32m    846\u001b[0m retries\u001b[38;5;241m.\u001b[39msleep()\n",
      "File \u001b[0;32m~/projects/monorepo/projects/sindit/.venv/lib/python3.11/site-packages/urllib3/util/retry.py:519\u001b[0m, in \u001b[0;36mRetry.increment\u001b[0;34m(self, method, url, response, error, _pool, _stacktrace)\u001b[0m\n\u001b[1;32m    518\u001b[0m     reason \u001b[38;5;241m=\u001b[39m error \u001b[38;5;129;01mor\u001b[39;00m ResponseError(cause)\n\u001b[0;32m--> 519\u001b[0m     \u001b[38;5;28;01mraise\u001b[39;00m MaxRetryError(_pool, url, reason) \u001b[38;5;28;01mfrom\u001b[39;00m \u001b[38;5;21;01mreason\u001b[39;00m  \u001b[38;5;66;03m# type: ignore[arg-type]\u001b[39;00m\n\u001b[1;32m    521\u001b[0m log\u001b[38;5;241m.\u001b[39mdebug(\u001b[38;5;124m\"\u001b[39m\u001b[38;5;124mIncremented Retry for (url=\u001b[39m\u001b[38;5;124m'\u001b[39m\u001b[38;5;132;01m%s\u001b[39;00m\u001b[38;5;124m'\u001b[39m\u001b[38;5;124m): \u001b[39m\u001b[38;5;132;01m%r\u001b[39;00m\u001b[38;5;124m\"\u001b[39m, url, new_retry)\n",
      "\u001b[0;31mMaxRetryError\u001b[0m: HTTPConnectionPool(host='localhost', port=7200): Max retries exceeded with url: /repositories/SINDIT/health (Caused by NewConnectionError('<urllib3.connection.HTTPConnection object at 0x117de4190>: Failed to establish a new connection: [Errno 61] Connection refused'))",
      "\nDuring handling of the above exception, another exception occurred:\n",
      "\u001b[0;31mConnectionError\u001b[0m                           Traceback (most recent call last)",
      "File \u001b[0;32m~/projects/monorepo/projects/sindit/common/semantic_knowledge_graph/GraphDBPersistenceService.py:38\u001b[0m, in \u001b[0;36mGraphDBPersistenceService._connect\u001b[0;34m(self)\u001b[0m\n\u001b[1;32m     36\u001b[0m logger\u001b[38;5;241m.\u001b[39mdebug(\u001b[38;5;124mf\u001b[39m\u001b[38;5;124m\"\u001b[39m\u001b[38;5;124mTrying to connect to uri \u001b[39m\u001b[38;5;132;01m{\u001b[39;00m\u001b[38;5;28mself\u001b[39m\u001b[38;5;241m.\u001b[39m__health_check_uri\u001b[38;5;132;01m}\u001b[39;00m\u001b[38;5;124m.\u001b[39m\u001b[38;5;124m\"\u001b[39m)\n\u001b[0;32m---> 38\u001b[0m response \u001b[38;5;241m=\u001b[39m \u001b[43mrequests\u001b[49m\u001b[38;5;241;43m.\u001b[39;49m\u001b[43mget\u001b[49m\u001b[43m(\u001b[49m\n\u001b[1;32m     39\u001b[0m \u001b[43m    \u001b[49m\u001b[38;5;28;43mself\u001b[39;49m\u001b[38;5;241;43m.\u001b[39;49m\u001b[43m__health_check_uri\u001b[49m\u001b[43m,\u001b[49m\n\u001b[1;32m     40\u001b[0m \u001b[43m    \u001b[49m\u001b[43mtimeout\u001b[49m\u001b[38;5;241;43m=\u001b[39;49m\u001b[38;5;241;43m5\u001b[39;49m\u001b[43m,\u001b[49m\n\u001b[1;32m     41\u001b[0m \u001b[43m    \u001b[49m\u001b[43mauth\u001b[49m\u001b[38;5;241;43m=\u001b[39;49m\u001b[43m(\u001b[49m\u001b[38;5;28;43mself\u001b[39;49m\u001b[38;5;241;43m.\u001b[39;49m\u001b[43m__username\u001b[49m\u001b[43m,\u001b[49m\u001b[43m \u001b[49m\u001b[38;5;28;43mself\u001b[39;49m\u001b[38;5;241;43m.\u001b[39;49m\u001b[43m__password\u001b[49m\u001b[43m)\u001b[49m\u001b[43m,\u001b[49m\n\u001b[1;32m     42\u001b[0m \u001b[43m\u001b[49m\u001b[43m)\u001b[49m\n\u001b[1;32m     43\u001b[0m \u001b[38;5;28;01mif\u001b[39;00m \u001b[38;5;129;01mnot\u001b[39;00m response\u001b[38;5;241m.\u001b[39mok:\n",
      "File \u001b[0;32m~/projects/monorepo/projects/sindit/.venv/lib/python3.11/site-packages/requests/api.py:73\u001b[0m, in \u001b[0;36mget\u001b[0;34m(url, params, **kwargs)\u001b[0m\n\u001b[1;32m     63\u001b[0m \u001b[38;5;250m\u001b[39m\u001b[38;5;124mr\u001b[39m\u001b[38;5;124;03m\"\"\"Sends a GET request.\u001b[39;00m\n\u001b[1;32m     64\u001b[0m \n\u001b[1;32m     65\u001b[0m \u001b[38;5;124;03m:param url: URL for the new :class:`Request` object.\u001b[39;00m\n\u001b[0;32m   (...)\u001b[0m\n\u001b[1;32m     70\u001b[0m \u001b[38;5;124;03m:rtype: requests.Response\u001b[39;00m\n\u001b[1;32m     71\u001b[0m \u001b[38;5;124;03m\"\"\"\u001b[39;00m\n\u001b[0;32m---> 73\u001b[0m \u001b[38;5;28;01mreturn\u001b[39;00m \u001b[43mrequest\u001b[49m\u001b[43m(\u001b[49m\u001b[38;5;124;43m\"\u001b[39;49m\u001b[38;5;124;43mget\u001b[39;49m\u001b[38;5;124;43m\"\u001b[39;49m\u001b[43m,\u001b[49m\u001b[43m \u001b[49m\u001b[43murl\u001b[49m\u001b[43m,\u001b[49m\u001b[43m \u001b[49m\u001b[43mparams\u001b[49m\u001b[38;5;241;43m=\u001b[39;49m\u001b[43mparams\u001b[49m\u001b[43m,\u001b[49m\u001b[43m \u001b[49m\u001b[38;5;241;43m*\u001b[39;49m\u001b[38;5;241;43m*\u001b[39;49m\u001b[43mkwargs\u001b[49m\u001b[43m)\u001b[49m\n",
      "File \u001b[0;32m~/projects/monorepo/projects/sindit/.venv/lib/python3.11/site-packages/requests/api.py:59\u001b[0m, in \u001b[0;36mrequest\u001b[0;34m(method, url, **kwargs)\u001b[0m\n\u001b[1;32m     58\u001b[0m \u001b[38;5;28;01mwith\u001b[39;00m sessions\u001b[38;5;241m.\u001b[39mSession() \u001b[38;5;28;01mas\u001b[39;00m session:\n\u001b[0;32m---> 59\u001b[0m     \u001b[38;5;28;01mreturn\u001b[39;00m \u001b[43msession\u001b[49m\u001b[38;5;241;43m.\u001b[39;49m\u001b[43mrequest\u001b[49m\u001b[43m(\u001b[49m\u001b[43mmethod\u001b[49m\u001b[38;5;241;43m=\u001b[39;49m\u001b[43mmethod\u001b[49m\u001b[43m,\u001b[49m\u001b[43m \u001b[49m\u001b[43murl\u001b[49m\u001b[38;5;241;43m=\u001b[39;49m\u001b[43murl\u001b[49m\u001b[43m,\u001b[49m\u001b[43m \u001b[49m\u001b[38;5;241;43m*\u001b[39;49m\u001b[38;5;241;43m*\u001b[39;49m\u001b[43mkwargs\u001b[49m\u001b[43m)\u001b[49m\n",
      "File \u001b[0;32m~/projects/monorepo/projects/sindit/.venv/lib/python3.11/site-packages/requests/sessions.py:589\u001b[0m, in \u001b[0;36mSession.request\u001b[0;34m(self, method, url, params, data, headers, cookies, files, auth, timeout, allow_redirects, proxies, hooks, stream, verify, cert, json)\u001b[0m\n\u001b[1;32m    588\u001b[0m send_kwargs\u001b[38;5;241m.\u001b[39mupdate(settings)\n\u001b[0;32m--> 589\u001b[0m resp \u001b[38;5;241m=\u001b[39m \u001b[38;5;28;43mself\u001b[39;49m\u001b[38;5;241;43m.\u001b[39;49m\u001b[43msend\u001b[49m\u001b[43m(\u001b[49m\u001b[43mprep\u001b[49m\u001b[43m,\u001b[49m\u001b[43m \u001b[49m\u001b[38;5;241;43m*\u001b[39;49m\u001b[38;5;241;43m*\u001b[39;49m\u001b[43msend_kwargs\u001b[49m\u001b[43m)\u001b[49m\n\u001b[1;32m    591\u001b[0m \u001b[38;5;28;01mreturn\u001b[39;00m resp\n",
      "File \u001b[0;32m~/projects/monorepo/projects/sindit/.venv/lib/python3.11/site-packages/requests/sessions.py:703\u001b[0m, in \u001b[0;36mSession.send\u001b[0;34m(self, request, **kwargs)\u001b[0m\n\u001b[1;32m    702\u001b[0m \u001b[38;5;66;03m# Send the request\u001b[39;00m\n\u001b[0;32m--> 703\u001b[0m r \u001b[38;5;241m=\u001b[39m \u001b[43madapter\u001b[49m\u001b[38;5;241;43m.\u001b[39;49m\u001b[43msend\u001b[49m\u001b[43m(\u001b[49m\u001b[43mrequest\u001b[49m\u001b[43m,\u001b[49m\u001b[43m \u001b[49m\u001b[38;5;241;43m*\u001b[39;49m\u001b[38;5;241;43m*\u001b[39;49m\u001b[43mkwargs\u001b[49m\u001b[43m)\u001b[49m\n\u001b[1;32m    705\u001b[0m \u001b[38;5;66;03m# Total elapsed time of the request (approximately)\u001b[39;00m\n",
      "File \u001b[0;32m~/projects/monorepo/projects/sindit/.venv/lib/python3.11/site-packages/requests/adapters.py:700\u001b[0m, in \u001b[0;36mHTTPAdapter.send\u001b[0;34m(self, request, stream, timeout, verify, cert, proxies)\u001b[0m\n\u001b[1;32m    698\u001b[0m         \u001b[38;5;28;01mraise\u001b[39;00m SSLError(e, request\u001b[38;5;241m=\u001b[39mrequest)\n\u001b[0;32m--> 700\u001b[0m     \u001b[38;5;28;01mraise\u001b[39;00m \u001b[38;5;167;01mConnectionError\u001b[39;00m(e, request\u001b[38;5;241m=\u001b[39mrequest)\n\u001b[1;32m    702\u001b[0m \u001b[38;5;28;01mexcept\u001b[39;00m ClosedPoolError \u001b[38;5;28;01mas\u001b[39;00m e:\n",
      "\u001b[0;31mConnectionError\u001b[0m: HTTPConnectionPool(host='localhost', port=7200): Max retries exceeded with url: /repositories/SINDIT/health (Caused by NewConnectionError('<urllib3.connection.HTTPConnection object at 0x117de4190>: Failed to establish a new connection: [Errno 61] Connection refused'))",
      "\nDuring handling of the above exception, another exception occurred:\n",
      "\u001b[0;31mKeyboardInterrupt\u001b[0m                         Traceback (most recent call last)",
      "Cell \u001b[0;32mIn[2], line 1\u001b[0m\n\u001b[0;32m----> 1\u001b[0m \u001b[38;5;28;01mfrom\u001b[39;00m \u001b[38;5;21;01minitialize_objects\u001b[39;00m \u001b[38;5;28;01mimport\u001b[39;00m sindit_kg_connector\n\u001b[1;32m      2\u001b[0m \u001b[38;5;28;01mfrom\u001b[39;00m \u001b[38;5;21;01mrdflib\u001b[39;00m \u001b[38;5;28;01mimport\u001b[39;00m XSD, Graph, URIRef\n\u001b[1;32m      4\u001b[0m \u001b[38;5;28;01mfrom\u001b[39;00m \u001b[38;5;21;01mknowledge_graph\u001b[39;00m\u001b[38;5;21;01m.\u001b[39;00m\u001b[38;5;21;01mgraph_model\u001b[39;00m \u001b[38;5;28;01mimport\u001b[39;00m (\n\u001b[1;32m      5\u001b[0m     AbstractAsset,\n\u001b[1;32m      6\u001b[0m     Connection,\n\u001b[0;32m   (...)\u001b[0m\n\u001b[1;32m     10\u001b[0m     URIClassMapping,\n\u001b[1;32m     11\u001b[0m )\n",
      "File \u001b[0;32m~/projects/monorepo/projects/sindit/initialize_objects.py:19\u001b[0m\n\u001b[1;32m     15\u001b[0m logger\u001b[38;5;241m.\u001b[39msetLevel(get_environment_variable(\u001b[38;5;124m\"\u001b[39m\u001b[38;5;124mLOG_LEVEL\u001b[39m\u001b[38;5;124m\"\u001b[39m, optional\u001b[38;5;241m=\u001b[39m\u001b[38;5;28;01mTrue\u001b[39;00m, default\u001b[38;5;241m=\u001b[39m\u001b[38;5;124m\"\u001b[39m\u001b[38;5;124mINFO\u001b[39m\u001b[38;5;124m\"\u001b[39m))\n\u001b[1;32m     17\u001b[0m logger\u001b[38;5;241m.\u001b[39minfo(\u001b[38;5;124m\"\u001b[39m\u001b[38;5;124mInitializing objects from environment variables...\u001b[39m\u001b[38;5;124m\"\u001b[39m)\n\u001b[0;32m---> 19\u001b[0m kg_service: SemanticKGPersistenceService \u001b[38;5;241m=\u001b[39m \u001b[43mGraphDBPersistenceService\u001b[49m\u001b[43m(\u001b[49m\n\u001b[1;32m     20\u001b[0m \u001b[43m    \u001b[49m\u001b[43mget_environment_variable\u001b[49m\u001b[43m(\u001b[49m\u001b[38;5;124;43m\"\u001b[39;49m\u001b[38;5;124;43mGRAPHDB_HOST\u001b[39;49m\u001b[38;5;124;43m\"\u001b[39;49m\u001b[43m)\u001b[49m\u001b[43m,\u001b[49m\n\u001b[1;32m     21\u001b[0m \u001b[43m    \u001b[49m\u001b[43mget_environment_variable\u001b[49m\u001b[43m(\u001b[49m\u001b[38;5;124;43m\"\u001b[39;49m\u001b[38;5;124;43mGRAPHDB_PORT\u001b[39;49m\u001b[38;5;124;43m\"\u001b[39;49m\u001b[43m)\u001b[49m\u001b[43m,\u001b[49m\n\u001b[1;32m     22\u001b[0m \u001b[43m    \u001b[49m\u001b[43mget_environment_variable\u001b[49m\u001b[43m(\u001b[49m\u001b[38;5;124;43m\"\u001b[39;49m\u001b[38;5;124;43mGRPAPHDB_REPOSITORY\u001b[39;49m\u001b[38;5;124;43m\"\u001b[39;49m\u001b[43m)\u001b[49m\u001b[43m,\u001b[49m\n\u001b[1;32m     23\u001b[0m \u001b[43m    \u001b[49m\u001b[43mget_environment_variable\u001b[49m\u001b[43m(\u001b[49m\u001b[38;5;124;43m\"\u001b[39;49m\u001b[38;5;124;43mGRAPHDB_USERNAME\u001b[39;49m\u001b[38;5;124;43m\"\u001b[39;49m\u001b[43m)\u001b[49m\u001b[43m,\u001b[49m\n\u001b[1;32m     24\u001b[0m \u001b[43m    \u001b[49m\u001b[43mget_environment_variable\u001b[49m\u001b[43m(\u001b[49m\u001b[38;5;124;43m\"\u001b[39;49m\u001b[38;5;124;43mGRAPHDB_PASSWORD\u001b[39;49m\u001b[38;5;124;43m\"\u001b[39;49m\u001b[43m)\u001b[49m\u001b[43m,\u001b[49m\n\u001b[1;32m     25\u001b[0m \u001b[43m)\u001b[49m\n\u001b[1;32m     27\u001b[0m sindit_kg_connector \u001b[38;5;241m=\u001b[39m SINDITKGConnector(kg_service)\n\u001b[1;32m     30\u001b[0m use_hashicorp_vault \u001b[38;5;241m=\u001b[39m get_environment_variable_bool(\n\u001b[1;32m     31\u001b[0m     \u001b[38;5;124m\"\u001b[39m\u001b[38;5;124mUSE_HASHICORP_VAULT\u001b[39m\u001b[38;5;124m\"\u001b[39m, optional\u001b[38;5;241m=\u001b[39m\u001b[38;5;28;01mTrue\u001b[39;00m, default\u001b[38;5;241m=\u001b[39m\u001b[38;5;124m\"\u001b[39m\u001b[38;5;124mfalse\u001b[39m\u001b[38;5;124m\"\u001b[39m\n\u001b[1;32m     32\u001b[0m )\n",
      "File \u001b[0;32m~/projects/monorepo/projects/sindit/common/semantic_knowledge_graph/GraphDBPersistenceService.py:26\u001b[0m, in \u001b[0;36mGraphDBPersistenceService.__init__\u001b[0;34m(self, host, port, repository, username, password)\u001b[0m\n\u001b[1;32m     24\u001b[0m \u001b[38;5;28mself\u001b[39m\u001b[38;5;241m.\u001b[39m__password \u001b[38;5;241m=\u001b[39m password\n\u001b[1;32m     25\u001b[0m \u001b[38;5;28mself\u001b[39m\u001b[38;5;241m.\u001b[39m__connected \u001b[38;5;241m=\u001b[39m \u001b[38;5;28;01mFalse\u001b[39;00m\n\u001b[0;32m---> 26\u001b[0m \u001b[38;5;28;43mself\u001b[39;49m\u001b[38;5;241;43m.\u001b[39;49m\u001b[43m_connect\u001b[49m\u001b[43m(\u001b[49m\u001b[43m)\u001b[49m\n\u001b[1;32m     28\u001b[0m \u001b[38;5;28mself\u001b[39m\u001b[38;5;241m.\u001b[39m__client_api \u001b[38;5;241m=\u001b[39m ClientAPI(\u001b[38;5;28mself\u001b[39m\u001b[38;5;241m.\u001b[39m__sparql_endpoint)\n",
      "File \u001b[0;32m~/projects/monorepo/projects/sindit/common/semantic_knowledge_graph/GraphDBPersistenceService.py:58\u001b[0m, in \u001b[0;36mGraphDBPersistenceService._connect\u001b[0;34m(self)\u001b[0m\n\u001b[1;32m     53\u001b[0m \u001b[38;5;28;01mexcept\u001b[39;00m \u001b[38;5;167;01mException\u001b[39;00m \u001b[38;5;28;01mas\u001b[39;00m e:\n\u001b[1;32m     54\u001b[0m     logger\u001b[38;5;241m.\u001b[39merror(\n\u001b[1;32m     55\u001b[0m         \u001b[38;5;124m\"\u001b[39m\u001b[38;5;124mGraphDB unavailable or Authentication invalid!. \u001b[39m\u001b[38;5;124m\"\u001b[39m\n\u001b[1;32m     56\u001b[0m         \u001b[38;5;241m+\u001b[39m \u001b[38;5;124mf\u001b[39m\u001b[38;5;124m\"\u001b[39m\u001b[38;5;124mReason: \u001b[39m\u001b[38;5;132;01m{\u001b[39;00me\u001b[38;5;132;01m}\u001b[39;00m\u001b[38;5;124m. Trying again in 10 seconds...\u001b[39m\u001b[38;5;124m\"\u001b[39m\n\u001b[1;32m     57\u001b[0m     )\n\u001b[0;32m---> 58\u001b[0m     \u001b[43mtime\u001b[49m\u001b[38;5;241;43m.\u001b[39;49m\u001b[43msleep\u001b[49m\u001b[43m(\u001b[49m\u001b[38;5;241;43m10\u001b[39;49m\u001b[43m)\u001b[49m\n",
      "\u001b[0;31mKeyboardInterrupt\u001b[0m: "
     ]
    }
   ],
   "source": [
    "from initialize_objects import sindit_kg_connector\n",
    "from rdflib import XSD, Graph, URIRef\n",
    "\n",
    "from knowledge_graph.graph_model import (\n",
    "    AbstractAsset,\n",
    "    Connection,\n",
    "    GraphNamespace,\n",
    "    StreamingProperty,\n",
    "    TimeseriesProperty,\n",
    "    URIClassMapping,\n",
    ")"
   ]
  },
  {
   "cell_type": "code",
   "execution_count": 2,
   "metadata": {},
   "outputs": [],
   "source": [
    "from knowledge_graph.graph_model import Connection, URIRef\n",
    "mqtt_connection = Connection(\n",
    "    uri=URIRef(\"http://sindit.sintef.no/2.0#mqtt-connection-new\"),\n",
    "    type=\"MQTT\",\n",
    "    host=\"192.168.1.81\",\n",
    "    port=1883,\n",
    "    username=\"admin\",\n",
    "    passwordPath=\"admin\",\n",
    "    label=\"MQTT Connection\",\n",
    ")"
   ]
  },
  {
   "cell_type": "code",
   "execution_count": 3,
   "metadata": {},
   "outputs": [
    {
     "data": {
      "text/plain": [
       "Connection(class_uri=rdflib.term.URIRef('urn:samm:sindit.sintef.no:1.0.0#Connection'), uri=rdflib.term.URIRef('http://sindit.sintef.no/2.0#mqtt-connection-new'), label='MQTT Connection', type='MQTT', host='192.168.1.81', port=1883, username='admin', passwordPath='admin', tokenPath=None, isConnected=None, connectionDescription=None)"
      ]
     },
     "execution_count": 3,
     "metadata": {},
     "output_type": "execute_result"
    }
   ],
   "source": [
    "mqtt_connection"
   ]
  },
  {
   "cell_type": "code",
   "execution_count": 13,
   "metadata": {},
   "outputs": [
    {
     "data": {
      "text/plain": [
       "True"
      ]
     },
     "execution_count": 13,
     "metadata": {},
     "output_type": "execute_result"
    }
   ],
   "source": [
    "sindit_kg_connector.save_node(mqtt_connection)"
   ]
  },
  {
   "cell_type": "code",
   "execution_count": 15,
   "metadata": {},
   "outputs": [],
   "source": [
    "connection = sindit_kg_connector.load_node_by_uri(\"http://sindit.sintef.no/2.0#mqtt-connection-new\")"
   ]
  },
  {
   "cell_type": "code",
   "execution_count": 2,
   "metadata": {},
   "outputs": [],
   "source": [
    "from connectors.connector_mqtt import MQTTConnector"
   ]
  },
  {
   "cell_type": "code",
   "execution_count": 3,
   "metadata": {},
   "outputs": [],
   "source": [
    "mqtt_connector = MQTTConnector(host=os.getenv(\"MQTT_BROKER\"), port=os.getenv(\"MQTT_PORT\"), username=os.getenv(\"MQTT_USERNAME\"), password=os.getenv(\"MQTT_PASSWORD\"))"
   ]
  },
  {
   "cell_type": "code",
   "execution_count": 4,
   "metadata": {},
   "outputs": [],
   "source": [
    "mqtt_connector.start()"
   ]
  },
  {
   "cell_type": "code",
   "execution_count": 5,
   "metadata": {},
   "outputs": [
    {
     "name": "stdout",
     "output_type": "stream",
     "text": [
      "Subscribed to f/i/+/+\n"
     ]
    }
   ],
   "source": [
    "mqtt_connector.subscribe(topic=\"f/i/+/+\")"
   ]
  },
  {
   "cell_type": "code",
   "execution_count": 6,
   "metadata": {},
   "outputs": [],
   "source": [
    "messages = mqtt_connector.get_messages()"
   ]
  },
  {
   "cell_type": "code",
   "execution_count": 7,
   "metadata": {},
   "outputs": [
    {
     "data": {
      "text/plain": [
       "{'f/i/state/mpo': {'timestamp': [1722428082.075271,\n",
       "   1722428082.154332,\n",
       "   1722428084.057782,\n",
       "   1722428084.131403,\n",
       "   1722428086.164129,\n",
       "   1722428086.216465,\n",
       "   1722428088.074522,\n",
       "   1722428088.125613,\n",
       "   1722428090.168312,\n",
       "   1722428090.1919842,\n",
       "   1722428092.117889,\n",
       "   1722428092.1737769],\n",
       "  'payload': ['{\"ts\":\"2024-07-31T12:14:40.539Z\",\"station\":\"mpo\",\"code\":1,\"description\":\"\",\"active\":false,\"target\":\"\"}',\n",
       "   '{\"ts\":\"2024-07-31T12:14:40.539Z\",\"station\":\"mpo\",\"code\":1,\"description\":\"\",\"active\":false,\"target\":\"\"}',\n",
       "   '{\"ts\":\"2024-07-31T12:14:42.568Z\",\"station\":\"mpo\",\"code\":1,\"description\":\"\",\"active\":false,\"target\":\"\"}',\n",
       "   '{\"ts\":\"2024-07-31T12:14:42.568Z\",\"station\":\"mpo\",\"code\":1,\"description\":\"\",\"active\":false,\"target\":\"\"}',\n",
       "   '{\"ts\":\"2024-07-31T12:14:44.597Z\",\"station\":\"mpo\",\"code\":1,\"description\":\"\",\"active\":false,\"target\":\"\"}',\n",
       "   '{\"ts\":\"2024-07-31T12:14:44.597Z\",\"station\":\"mpo\",\"code\":1,\"description\":\"\",\"active\":false,\"target\":\"\"}',\n",
       "   '{\"ts\":\"2024-07-31T12:14:46.619Z\",\"station\":\"mpo\",\"code\":1,\"description\":\"\",\"active\":false,\"target\":\"\"}',\n",
       "   '{\"ts\":\"2024-07-31T12:14:46.619Z\",\"station\":\"mpo\",\"code\":1,\"description\":\"\",\"active\":false,\"target\":\"\"}',\n",
       "   '{\"ts\":\"2024-07-31T12:14:48.648Z\",\"station\":\"mpo\",\"code\":1,\"description\":\"\",\"active\":false,\"target\":\"\"}',\n",
       "   '{\"ts\":\"2024-07-31T12:14:48.648Z\",\"station\":\"mpo\",\"code\":1,\"description\":\"\",\"active\":false,\"target\":\"\"}',\n",
       "   '{\"ts\":\"2024-07-31T12:14:50.670Z\",\"station\":\"mpo\",\"code\":1,\"description\":\"\",\"active\":false,\"target\":\"\"}',\n",
       "   '{\"ts\":\"2024-07-31T12:14:50.670Z\",\"station\":\"mpo\",\"code\":1,\"description\":\"\",\"active\":false,\"target\":\"\"}']},\n",
       " 'f/i/state/hbw': {'timestamp': [1722428082.102017,\n",
       "   1722428082.2591639,\n",
       "   1722428084.086289,\n",
       "   1722428084.1757498,\n",
       "   1722428086.186969,\n",
       "   1722428086.2660239,\n",
       "   1722428088.1029592,\n",
       "   1722428088.1814241,\n",
       "   1722428090.191765,\n",
       "   1722428090.192106,\n",
       "   1722428092.149194,\n",
       "   1722428092.227149],\n",
       "  'payload': ['{\"ts\":\"2024-07-31T12:14:40.861Z\",\"station\":\"hbw\",\"code\":1,\"description\":\"\",\"active\":false,\"target\":\"\"}',\n",
       "   '{\"ts\":\"2024-07-31T12:14:40.861Z\",\"station\":\"hbw\",\"code\":1,\"description\":\"\",\"active\":false,\"target\":\"\"}',\n",
       "   '{\"ts\":\"2024-07-31T12:14:42.889Z\",\"station\":\"hbw\",\"code\":1,\"description\":\"\",\"active\":false,\"target\":\"\"}',\n",
       "   '{\"ts\":\"2024-07-31T12:14:42.889Z\",\"station\":\"hbw\",\"code\":1,\"description\":\"\",\"active\":false,\"target\":\"\"}',\n",
       "   '{\"ts\":\"2024-07-31T12:14:44.919Z\",\"station\":\"hbw\",\"code\":1,\"description\":\"\",\"active\":false,\"target\":\"\"}',\n",
       "   '{\"ts\":\"2024-07-31T12:14:44.919Z\",\"station\":\"hbw\",\"code\":1,\"description\":\"\",\"active\":false,\"target\":\"\"}',\n",
       "   '{\"ts\":\"2024-07-31T12:14:46.941Z\",\"station\":\"hbw\",\"code\":1,\"description\":\"\",\"active\":false,\"target\":\"\"}',\n",
       "   '{\"ts\":\"2024-07-31T12:14:46.941Z\",\"station\":\"hbw\",\"code\":1,\"description\":\"\",\"active\":false,\"target\":\"\"}',\n",
       "   '{\"ts\":\"2024-07-31T12:14:48.970Z\",\"station\":\"hbw\",\"code\":1,\"description\":\"\",\"active\":false,\"target\":\"\"}',\n",
       "   '{\"ts\":\"2024-07-31T12:14:48.970Z\",\"station\":\"hbw\",\"code\":1,\"description\":\"\",\"active\":false,\"target\":\"\"}',\n",
       "   '{\"ts\":\"2024-07-31T12:14:50.992Z\",\"station\":\"hbw\",\"code\":1,\"description\":\"\",\"active\":false,\"target\":\"\"}',\n",
       "   '{\"ts\":\"2024-07-31T12:14:50.992Z\",\"station\":\"hbw\",\"code\":1,\"description\":\"\",\"active\":false,\"target\":\"\"}']},\n",
       " 'f/i/state/sld': {'timestamp': [1722428082.130028,\n",
       "   1722428082.281955,\n",
       "   1722428084.109686,\n",
       "   1722428084.17588,\n",
       "   1722428086.187096,\n",
       "   1722428086.288983,\n",
       "   1722428088.125438,\n",
       "   1722428088.18154,\n",
       "   1722428090.191884,\n",
       "   1722428090.237119,\n",
       "   1722428092.173861,\n",
       "   1722428092.267213],\n",
       "  'payload': ['{\"ts\":\"2024-07-31T12:14:40.620Z\",\"station\":\"sld\",\"code\":1,\"description\":\"\",\"active\":false,\"target\":\"\"}',\n",
       "   '{\"ts\":\"2024-07-31T12:14:40.620Z\",\"station\":\"sld\",\"code\":1,\"description\":\"\",\"active\":false,\"target\":\"\"}',\n",
       "   '{\"ts\":\"2024-07-31T12:14:42.648Z\",\"station\":\"sld\",\"code\":1,\"description\":\"\",\"active\":false,\"target\":\"\"}',\n",
       "   '{\"ts\":\"2024-07-31T12:14:42.648Z\",\"station\":\"sld\",\"code\":1,\"description\":\"\",\"active\":false,\"target\":\"\"}',\n",
       "   '{\"ts\":\"2024-07-31T12:14:44.678Z\",\"station\":\"sld\",\"code\":1,\"description\":\"\",\"active\":false,\"target\":\"\"}',\n",
       "   '{\"ts\":\"2024-07-31T12:14:44.678Z\",\"station\":\"sld\",\"code\":1,\"description\":\"\",\"active\":false,\"target\":\"\"}',\n",
       "   '{\"ts\":\"2024-07-31T12:14:46.700Z\",\"station\":\"sld\",\"code\":1,\"description\":\"\",\"active\":false,\"target\":\"\"}',\n",
       "   '{\"ts\":\"2024-07-31T12:14:46.700Z\",\"station\":\"sld\",\"code\":1,\"description\":\"\",\"active\":false,\"target\":\"\"}',\n",
       "   '{\"ts\":\"2024-07-31T12:14:48.728Z\",\"station\":\"sld\",\"code\":1,\"description\":\"\",\"active\":false,\"target\":\"\"}',\n",
       "   '{\"ts\":\"2024-07-31T12:14:48.728Z\",\"station\":\"sld\",\"code\":1,\"description\":\"\",\"active\":false,\"target\":\"\"}',\n",
       "   '{\"ts\":\"2024-07-31T12:14:50.751Z\",\"station\":\"sld\",\"code\":1,\"description\":\"\",\"active\":false,\"target\":\"\"}',\n",
       "   '{\"ts\":\"2024-07-31T12:14:50.751Z\",\"station\":\"sld\",\"code\":1,\"description\":\"\",\"active\":false,\"target\":\"\"}']},\n",
       " 'f/i/state/vgr': {'timestamp': [1722428082.154479,\n",
       "   1722428082.3114948,\n",
       "   1722428084.154262,\n",
       "   1722428084.2126331,\n",
       "   1722428086.1872041,\n",
       "   1722428086.289102,\n",
       "   1722428088.157761,\n",
       "   1722428088.2246761,\n",
       "   1722428090.21437,\n",
       "   1722428090.282933,\n",
       "   1722428092.204318,\n",
       "   1722428092.2889888],\n",
       "  'payload': ['{\"ts\":\"2024-07-31T12:14:40.649Z\",\"station\":\"vgr\",\"code\":1,\"description\":\"\",\"active\":false,\"target\":\"\"}',\n",
       "   '{\"ts\":\"2024-07-31T12:14:40.649Z\",\"station\":\"vgr\",\"code\":1,\"description\":\"\",\"active\":false,\"target\":\"\"}',\n",
       "   '{\"ts\":\"2024-07-31T12:14:42.678Z\",\"station\":\"vgr\",\"code\":1,\"description\":\"\",\"active\":false,\"target\":\"\"}',\n",
       "   '{\"ts\":\"2024-07-31T12:14:42.678Z\",\"station\":\"vgr\",\"code\":1,\"description\":\"\",\"active\":false,\"target\":\"\"}',\n",
       "   '{\"ts\":\"2024-07-31T12:14:44.697Z\",\"station\":\"vgr\",\"code\":1,\"description\":\"\",\"active\":false,\"target\":\"\"}',\n",
       "   '{\"ts\":\"2024-07-31T12:14:44.697Z\",\"station\":\"vgr\",\"code\":1,\"description\":\"\",\"active\":false,\"target\":\"\"}',\n",
       "   '{\"ts\":\"2024-07-31T12:14:46.720Z\",\"station\":\"vgr\",\"code\":1,\"description\":\"\",\"active\":false,\"target\":\"\"}',\n",
       "   '{\"ts\":\"2024-07-31T12:14:46.720Z\",\"station\":\"vgr\",\"code\":1,\"description\":\"\",\"active\":false,\"target\":\"\"}',\n",
       "   '{\"ts\":\"2024-07-31T12:14:48.748Z\",\"station\":\"vgr\",\"code\":1,\"description\":\"\",\"active\":false,\"target\":\"\"}',\n",
       "   '{\"ts\":\"2024-07-31T12:14:48.748Z\",\"station\":\"vgr\",\"code\":1,\"description\":\"\",\"active\":false,\"target\":\"\"}',\n",
       "   '{\"ts\":\"2024-07-31T12:14:50.770Z\",\"station\":\"vgr\",\"code\":1,\"description\":\"\",\"active\":false,\"target\":\"\"}',\n",
       "   '{\"ts\":\"2024-07-31T12:14:50.770Z\",\"station\":\"vgr\",\"code\":1,\"description\":\"\",\"active\":false,\"target\":\"\"}']},\n",
       " 'f/i/state/dsi': {'timestamp': [1722428082.154623,\n",
       "   1722428082.3342998,\n",
       "   1722428084.154388,\n",
       "   1722428084.2368,\n",
       "   1722428086.187329,\n",
       "   1722428086.2892292,\n",
       "   1722428088.181317,\n",
       "   1722428088.2461572,\n",
       "   1722428090.214499,\n",
       "   1722428090.3055959,\n",
       "   1722428092.2270432,\n",
       "   1722428092.315205],\n",
       "  'payload': ['{\"ts\":\"2024-07-31T12:14:40.519Z\",\"station\":\"dsi\",\"code\":1,\"description\":\"\",\"target\":\"\",\"active\":false}',\n",
       "   '{\"ts\":\"2024-07-31T12:14:40.519Z\",\"station\":\"dsi\",\"code\":1,\"description\":\"\",\"target\":\"\",\"active\":false}',\n",
       "   '{\"ts\":\"2024-07-31T12:14:42.548Z\",\"station\":\"dsi\",\"code\":1,\"description\":\"\",\"target\":\"\",\"active\":false}',\n",
       "   '{\"ts\":\"2024-07-31T12:14:42.548Z\",\"station\":\"dsi\",\"code\":1,\"description\":\"\",\"target\":\"\",\"active\":false}',\n",
       "   '{\"ts\":\"2024-07-31T12:14:44.567Z\",\"station\":\"dsi\",\"code\":1,\"description\":\"\",\"target\":\"\",\"active\":false}',\n",
       "   '{\"ts\":\"2024-07-31T12:14:44.567Z\",\"station\":\"dsi\",\"code\":1,\"description\":\"\",\"target\":\"\",\"active\":false}',\n",
       "   '{\"ts\":\"2024-07-31T12:14:46.589Z\",\"station\":\"dsi\",\"code\":1,\"description\":\"\",\"target\":\"\",\"active\":false}',\n",
       "   '{\"ts\":\"2024-07-31T12:14:46.589Z\",\"station\":\"dsi\",\"code\":1,\"description\":\"\",\"target\":\"\",\"active\":false}',\n",
       "   '{\"ts\":\"2024-07-31T12:14:48.618Z\",\"station\":\"dsi\",\"code\":1,\"description\":\"\",\"target\":\"\",\"active\":false}',\n",
       "   '{\"ts\":\"2024-07-31T12:14:48.618Z\",\"station\":\"dsi\",\"code\":1,\"description\":\"\",\"target\":\"\",\"active\":false}',\n",
       "   '{\"ts\":\"2024-07-31T12:14:50.640Z\",\"station\":\"dsi\",\"code\":1,\"description\":\"\",\"target\":\"\",\"active\":false}',\n",
       "   '{\"ts\":\"2024-07-31T12:14:50.640Z\",\"station\":\"dsi\",\"code\":1,\"description\":\"\",\"target\":\"\",\"active\":false}']},\n",
       " 'f/i/state/dso': {'timestamp': [1722428083.102299,\n",
       "   1722428083.1269,\n",
       "   1722428085.043571,\n",
       "   1722428085.094091,\n",
       "   1722428087.0974872,\n",
       "   1722428087.119802,\n",
       "   1722428089.1439118,\n",
       "   1722428089.1674392,\n",
       "   1722428092.173651,\n",
       "   1722428092.227267],\n",
       "  'payload': ['{\"ts\":\"2024-07-31T12:14:42.347Z\",\"station\":\"dso\",\"code\":1,\"description\":\"\",\"target\":\"\",\"active\":false}',\n",
       "   '{\"ts\":\"2024-07-31T12:14:42.347Z\",\"station\":\"dso\",\"code\":1,\"description\":\"\",\"target\":\"\",\"active\":false}',\n",
       "   '{\"ts\":\"2024-07-31T12:14:44.376Z\",\"station\":\"dso\",\"code\":1,\"description\":\"\",\"target\":\"\",\"active\":false}',\n",
       "   '{\"ts\":\"2024-07-31T12:14:44.376Z\",\"station\":\"dso\",\"code\":1,\"description\":\"\",\"target\":\"\",\"active\":false}',\n",
       "   '{\"ts\":\"2024-07-31T12:14:46.398Z\",\"station\":\"dso\",\"code\":1,\"description\":\"\",\"target\":\"\",\"active\":false}',\n",
       "   '{\"ts\":\"2024-07-31T12:14:46.398Z\",\"station\":\"dso\",\"code\":1,\"description\":\"\",\"target\":\"\",\"active\":false}',\n",
       "   '{\"ts\":\"2024-07-31T12:14:48.427Z\",\"station\":\"dso\",\"code\":1,\"description\":\"\",\"target\":\"\",\"active\":false}',\n",
       "   '{\"ts\":\"2024-07-31T12:14:48.427Z\",\"station\":\"dso\",\"code\":1,\"description\":\"\",\"target\":\"\",\"active\":false}',\n",
       "   '{\"ts\":\"2024-07-31T12:14:50.450Z\",\"station\":\"dso\",\"code\":1,\"description\":\"\",\"target\":\"\",\"active\":false}',\n",
       "   '{\"ts\":\"2024-07-31T12:14:50.450Z\",\"station\":\"dso\",\"code\":1,\"description\":\"\",\"target\":\"\",\"active\":false}']}}"
      ]
     },
     "execution_count": 7,
     "metadata": {},
     "output_type": "execute_result"
    }
   ],
   "source": [
    "messages"
   ]
  },
  {
   "cell_type": "code",
   "execution_count": 8,
   "metadata": {},
   "outputs": [],
   "source": [
    "mqtt_connector.stop()"
   ]
  },
  {
   "cell_type": "code",
   "execution_count": 9,
   "metadata": {},
   "outputs": [],
   "source": [
    "from connectors.connector_influxdb import InfluxDBConnector"
   ]
  },
  {
   "cell_type": "code",
   "execution_count": 10,
   "metadata": {},
   "outputs": [],
   "source": [
    "influx_connector = InfluxDBConnector(host=\"http://localhost\", port=8086, token=os.getenv('INFLUXDB_ACCESS_TOKEN'), org=\"SINTEF\", bucket='ruuvitag')"
   ]
  },
  {
   "cell_type": "code",
   "execution_count": 11,
   "metadata": {},
   "outputs": [
    {
     "name": "stdout",
     "output_type": "stream",
     "text": [
      "Successfully connected to InfluxDB\n"
     ]
    }
   ],
   "source": [
    "influx_connector.connect()"
   ]
  },
  {
   "cell_type": "code",
   "execution_count": 12,
   "metadata": {},
   "outputs": [
    {
     "ename": "AttributeError",
     "evalue": "'InfluxDBConnector' object has no attribute 'get_buckets_names'",
     "output_type": "error",
     "traceback": [
      "\u001b[0;31m---------------------------------------------------------------------------\u001b[0m",
      "\u001b[0;31mAttributeError\u001b[0m                            Traceback (most recent call last)",
      "Cell \u001b[0;32mIn[12], line 1\u001b[0m\n\u001b[0;32m----> 1\u001b[0m \u001b[43minflux_connector\u001b[49m\u001b[38;5;241;43m.\u001b[39;49m\u001b[43mget_buckets_names\u001b[49m()\n",
      "\u001b[0;31mAttributeError\u001b[0m: 'InfluxDBConnector' object has no attribute 'get_buckets_names'"
     ]
    }
   ],
   "source": [
    "influx_connector.get_buckets_names()"
   ]
  },
  {
   "cell_type": "code",
   "execution_count": 13,
   "metadata": {},
   "outputs": [
    {
     "data": {
      "text/plain": [
       "['acceleration',\n",
       " 'acceleration_x',\n",
       " 'acceleration_y',\n",
       " 'acceleration_z',\n",
       " 'battery',\n",
       " 'humidity',\n",
       " 'measurement_sequence_number',\n",
       " 'movement_counter',\n",
       " 'pressure',\n",
       " 'rssi',\n",
       " 'temperature',\n",
       " 'tx_power']"
      ]
     },
     "execution_count": 13,
     "metadata": {},
     "output_type": "execute_result"
    }
   ],
   "source": [
    "influx_connector.get_fields()"
   ]
  },
  {
   "cell_type": "code",
   "execution_count": 14,
   "metadata": {},
   "outputs": [
    {
     "data": {
      "text/plain": [
       "['_start', '_stop', '_field', '_measurement', 'host', 'mac']"
      ]
     },
     "execution_count": 14,
     "metadata": {},
     "output_type": "execute_result"
    }
   ],
   "source": [
    "influx_connector.get_tags()"
   ]
  },
  {
   "cell_type": "code",
   "execution_count": 15,
   "metadata": {},
   "outputs": [],
   "source": [
    "df = influx_connector.query_field(bucket=\"ruuvitag\", field=\"humidity\", query_return_type=\"pandas\")"
   ]
  },
  {
   "cell_type": "code",
   "execution_count": 16,
   "metadata": {},
   "outputs": [
    {
     "data": {
      "text/html": [
       "<div>\n",
       "<style scoped>\n",
       "    .dataframe tbody tr th:only-of-type {\n",
       "        vertical-align: middle;\n",
       "    }\n",
       "\n",
       "    .dataframe tbody tr th {\n",
       "        vertical-align: top;\n",
       "    }\n",
       "\n",
       "    .dataframe thead th {\n",
       "        text-align: right;\n",
       "    }\n",
       "</style>\n",
       "<table border=\"1\" class=\"dataframe\">\n",
       "  <thead>\n",
       "    <tr style=\"text-align: right;\">\n",
       "      <th></th>\n",
       "      <th>result</th>\n",
       "      <th>table</th>\n",
       "      <th>_start</th>\n",
       "      <th>_stop</th>\n",
       "      <th>_time</th>\n",
       "      <th>_measurement</th>\n",
       "      <th>host</th>\n",
       "      <th>mac</th>\n",
       "      <th>humidity</th>\n",
       "    </tr>\n",
       "  </thead>\n",
       "  <tbody>\n",
       "    <tr>\n",
       "      <th>0</th>\n",
       "      <td>_result</td>\n",
       "      <td>0</td>\n",
       "      <td>2024-07-31 11:15:14.069073+00:00</td>\n",
       "      <td>2024-07-31 12:15:14.069073+00:00</td>\n",
       "      <td>2024-07-31 11:15:33+00:00</td>\n",
       "      <td>ruuvi</td>\n",
       "      <td>Grans-MBP-586.sintef.no</td>\n",
       "      <td>c5326c6ddd3f</td>\n",
       "      <td>31.40</td>\n",
       "    </tr>\n",
       "    <tr>\n",
       "      <th>1</th>\n",
       "      <td>_result</td>\n",
       "      <td>0</td>\n",
       "      <td>2024-07-31 11:15:14.069073+00:00</td>\n",
       "      <td>2024-07-31 12:15:14.069073+00:00</td>\n",
       "      <td>2024-07-31 11:15:44+00:00</td>\n",
       "      <td>ruuvi</td>\n",
       "      <td>Grans-MBP-586.sintef.no</td>\n",
       "      <td>c5326c6ddd3f</td>\n",
       "      <td>31.39</td>\n",
       "    </tr>\n",
       "    <tr>\n",
       "      <th>2</th>\n",
       "      <td>_result</td>\n",
       "      <td>0</td>\n",
       "      <td>2024-07-31 11:15:14.069073+00:00</td>\n",
       "      <td>2024-07-31 12:15:14.069073+00:00</td>\n",
       "      <td>2024-07-31 11:16:01+00:00</td>\n",
       "      <td>ruuvi</td>\n",
       "      <td>Grans-MBP-586.sintef.no</td>\n",
       "      <td>c5326c6ddd3f</td>\n",
       "      <td>31.42</td>\n",
       "    </tr>\n",
       "    <tr>\n",
       "      <th>3</th>\n",
       "      <td>_result</td>\n",
       "      <td>0</td>\n",
       "      <td>2024-07-31 11:15:14.069073+00:00</td>\n",
       "      <td>2024-07-31 12:15:14.069073+00:00</td>\n",
       "      <td>2024-07-31 11:16:23+00:00</td>\n",
       "      <td>ruuvi</td>\n",
       "      <td>Grans-MBP-586.sintef.no</td>\n",
       "      <td>c5326c6ddd3f</td>\n",
       "      <td>31.41</td>\n",
       "    </tr>\n",
       "    <tr>\n",
       "      <th>4</th>\n",
       "      <td>_result</td>\n",
       "      <td>0</td>\n",
       "      <td>2024-07-31 11:15:14.069073+00:00</td>\n",
       "      <td>2024-07-31 12:15:14.069073+00:00</td>\n",
       "      <td>2024-07-31 11:16:46+00:00</td>\n",
       "      <td>ruuvi</td>\n",
       "      <td>Grans-MBP-586.sintef.no</td>\n",
       "      <td>c5326c6ddd3f</td>\n",
       "      <td>31.42</td>\n",
       "    </tr>\n",
       "  </tbody>\n",
       "</table>\n",
       "</div>"
      ],
      "text/plain": [
       "    result  table                           _start  \\\n",
       "0  _result      0 2024-07-31 11:15:14.069073+00:00   \n",
       "1  _result      0 2024-07-31 11:15:14.069073+00:00   \n",
       "2  _result      0 2024-07-31 11:15:14.069073+00:00   \n",
       "3  _result      0 2024-07-31 11:15:14.069073+00:00   \n",
       "4  _result      0 2024-07-31 11:15:14.069073+00:00   \n",
       "\n",
       "                             _stop                     _time _measurement  \\\n",
       "0 2024-07-31 12:15:14.069073+00:00 2024-07-31 11:15:33+00:00        ruuvi   \n",
       "1 2024-07-31 12:15:14.069073+00:00 2024-07-31 11:15:44+00:00        ruuvi   \n",
       "2 2024-07-31 12:15:14.069073+00:00 2024-07-31 11:16:01+00:00        ruuvi   \n",
       "3 2024-07-31 12:15:14.069073+00:00 2024-07-31 11:16:23+00:00        ruuvi   \n",
       "4 2024-07-31 12:15:14.069073+00:00 2024-07-31 11:16:46+00:00        ruuvi   \n",
       "\n",
       "                      host           mac  humidity  \n",
       "0  Grans-MBP-586.sintef.no  c5326c6ddd3f     31.40  \n",
       "1  Grans-MBP-586.sintef.no  c5326c6ddd3f     31.39  \n",
       "2  Grans-MBP-586.sintef.no  c5326c6ddd3f     31.42  \n",
       "3  Grans-MBP-586.sintef.no  c5326c6ddd3f     31.41  \n",
       "4  Grans-MBP-586.sintef.no  c5326c6ddd3f     31.42  "
      ]
     },
     "execution_count": 16,
     "metadata": {},
     "output_type": "execute_result"
    }
   ],
   "source": [
    "df.head()"
   ]
  },
  {
   "cell_type": "code",
   "execution_count": 17,
   "metadata": {},
   "outputs": [],
   "source": [
    "# stop/disconnect connectors\n",
    "influx_connector.disconnect()\n",
    "mqtt_connector.stop()"
   ]
  },
  {
   "cell_type": "code",
   "execution_count": null,
   "metadata": {},
   "outputs": [],
   "source": []
  }
 ],
 "metadata": {
  "kernelspec": {
   "display_name": ".venv",
   "language": "python",
   "name": "python3"
  },
  "language_info": {
   "codemirror_mode": {
    "name": "ipython",
    "version": 3
   },
   "file_extension": ".py",
   "mimetype": "text/x-python",
   "name": "python",
   "nbconvert_exporter": "python",
   "pygments_lexer": "ipython3",
   "version": "3.11.9"
  }
 },
 "nbformat": 4,
 "nbformat_minor": 2
}
